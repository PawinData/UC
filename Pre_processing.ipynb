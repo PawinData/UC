{
  "nbformat": 4,
  "nbformat_minor": 0,
  "metadata": {
    "colab": {
      "name": "Pre-processing.ipynb",
      "provenance": [],
      "collapsed_sections": [],
      "authorship_tag": "ABX9TyMfRUGNl9bTr6XAMHHKW3WL",
      "include_colab_link": true
    },
    "kernelspec": {
      "name": "python3",
      "display_name": "Python 3"
    }
  },
  "cells": [
    {
      "cell_type": "markdown",
      "metadata": {
        "id": "view-in-github",
        "colab_type": "text"
      },
      "source": [
        "<a href=\"https://colab.research.google.com/github/PawinData/UC/blob/SFBA/Pre_processing.ipynb\" target=\"_parent\"><img src=\"https://colab.research.google.com/assets/colab-badge.svg\" alt=\"Open In Colab\"/></a>"
      ]
    },
    {
      "cell_type": "code",
      "metadata": {
        "id": "gTDueUP0cvzd",
        "colab_type": "code",
        "colab": {}
      },
      "source": [
        "import pandas as pd\n",
        "import numpy as np\n",
        "import re\n",
        "from pickle import dump, load\n",
        "from functions import str_to_day, day_to_str"
      ],
      "execution_count": 0,
      "outputs": []
    },
    {
      "cell_type": "markdown",
      "metadata": {
        "id": "FvWqfkN2fR8f",
        "colab_type": "text"
      },
      "source": [
        "This is to create a dictionary of date $\\rightarrow$ feature dataframe within a certain time window. Each feature dataframe, mapped from a date, has $M$ rows (features) and $N$ columns (counties).\n",
        "\n",
        "**FEATURES_raw.p**: date $\\rightarrow$ raw feature dataframe\n",
        "\n",
        "**FEATURES_normal.p**: date $\\rightarrow$ normalized feature dataframe\n",
        "\n",
        "Both are stored in pickle files."
      ]
    },
    {
      "cell_type": "code",
      "metadata": {
        "id": "N_XL7dlbdF82",
        "colab_type": "code",
        "colab": {}
      },
      "source": [
        "# set up time window of feature dataframes\n",
        "start = \"2020-02-01\"\n",
        "end = \"2020-05-02\"\n",
        "Time_Window = [day_to_str(day) for day in range(str_to_day(start), 1+str_to_day(end))]"
      ],
      "execution_count": 0,
      "outputs": []
    },
    {
      "cell_type": "code",
      "metadata": {
        "id": "o7IWlFGlhY4a",
        "colab_type": "code",
        "colab": {}
      },
      "source": [
        "# columns of a feature dataframe\n",
        "Counties = [\"Alameda\", \"Contra Costa\", \"Marin\", \"Napa\", \"San Francisco\", \n",
        "            \"San Mateo\", \"Santa Clara\", \"Solano\", \"Sonoma\"]\n",
        "Counties.sort()\n",
        "\n",
        "# a dictionary of date --> M-by-N feature dataframe\n",
        "FEATURES = dict()"
      ],
      "execution_count": 0,
      "outputs": []
    },
    {
      "cell_type": "markdown",
      "metadata": {
        "id": "Bnj1ZHdFfKzY",
        "colab_type": "text"
      },
      "source": [
        "# Meteorological Data"
      ]
    },
    {
      "cell_type": "code",
      "metadata": {
        "id": "HcIKAWNue2KX",
        "colab_type": "code",
        "colab": {}
      },
      "source": [
        "# load datasets\n",
        "TEMP = pd.read_csv(\"https://raw.githubusercontent.com/PawinData/UC/SFBA/Data/WeatherData/temperatureData2.csv\",\n",
        "                   index_col=0)\n",
        "TEMP = TEMP[Counties]\n",
        "\n",
        "WIND = pd.read_csv(\"https://raw.githubusercontent.com/PawinData/UC/SFBA/Data/WeatherData/windSpeedData2.csv\",\n",
        "                   index_col=0)\n",
        "WIND = WIND[Counties]\n",
        "\n",
        "PREP = pd.read_csv(\"https://raw.githubusercontent.com/PawinData/UC/SFBA/Data/WeatherData/precipitationData2_SUM.csv\",\n",
        "                   index_col=0)\n",
        "PREP = PREP[Counties]"
      ],
      "execution_count": 0,
      "outputs": []
    },
    {
      "cell_type": "code",
      "metadata": {
        "id": "dIIMjED7mTwE",
        "colab_type": "code",
        "colab": {}
      },
      "source": [
        "# construct feature dataframe\n",
        "for date in Time_Window:\n",
        "    mtx = np.array([TEMP.loc[date,:].tolist(), \n",
        "                    WIND.loc[date,:].tolist(), \n",
        "                    PREP.loc[date,:].tolist()])\n",
        "    FEATURES[date] = pd.DataFrame(mtx, columns=Counties,\n",
        "                                  index=[\"temperature\", \"wind_speed\", \"precipitation\"])"
      ],
      "execution_count": 0,
      "outputs": []
    },
    {
      "cell_type": "code",
      "metadata": {
        "id": "Ng6T1X04r6Gx",
        "colab_type": "code",
        "colab": {}
      },
      "source": [
        "# remove redundant datasets\n",
        "del TEMP, WIND, PREP"
      ],
      "execution_count": 0,
      "outputs": []
    },
    {
      "cell_type": "markdown",
      "metadata": {
        "id": "zKT9wclhh6Yn",
        "colab_type": "text"
      },
      "source": [
        "# Demographic Data"
      ]
    },
    {
      "cell_type": "code",
      "metadata": {
        "id": "ctBKDXVziDII",
        "colab_type": "code",
        "colab": {}
      },
      "source": [
        "# load datasets\n",
        "UME = pd.read_csv(\"https://raw.githubusercontent.com/PawinData/UC/SFBA/Data/UnemploymentRate.csv\",\n",
        "                  index_col=0)\n",
        "\n",
        "INCOME = pd.read_csv(\"https://raw.githubusercontent.com/PawinData/UC/SFBA/Data/randomData.csv\",\n",
        "                     index_col=0)\n",
        "INCOME.columns = [\"population\",\"density\",\"income_per_capita\",\"median_household_income\"]\n",
        "\n",
        "CRIME = pd.read_csv(\"https://raw.githubusercontent.com/PawinData/UC/SFBA/Data/CrimeData/crime.csv\",\n",
        "                    index_col=0)"
      ],
      "execution_count": 0,
      "outputs": []
    },
    {
      "cell_type": "code",
      "metadata": {
        "id": "AXgFLyV2xbOS",
        "colab_type": "code",
        "colab": {}
      },
      "source": [
        "# a function to extract month from a date\n",
        "def Month(date):\n",
        "    mm = re.findall('^2020-([0-9]+)-', date)\n",
        "    mm = int(mm[0])\n",
        "    if mm==1:\n",
        "        month = \"JAN\"\n",
        "    elif mm==2:\n",
        "        month = \"FEB\"\n",
        "    elif mm==3:\n",
        "        month = \"MAR\"\n",
        "    else:\n",
        "        month = \"APR\"\n",
        "    return month"
      ],
      "execution_count": 0,
      "outputs": []
    },
    {
      "cell_type": "code",
      "metadata": {
        "id": "aK0ZeCv0vLnf",
        "colab_type": "code",
        "colab": {}
      },
      "source": [
        "# add features to the dictionary\n",
        "for date in Time_Window:\n",
        "    month = Month(date)\n",
        "    mtx = np.array([UME[month].tolist(),\n",
        "                   CRIME[\"crime_rate_per_100000\"].tolist(),\n",
        "                   INCOME[\"income_per_capita\"].tolist()])\n",
        "    df = pd.DataFrame(mtx, columns=Counties,\n",
        "                      index=[\"unemployment_rate\",\"crime_rate\",\"income_per_capita\"])\n",
        "    FEATURES[date] = FEATURES[date].append(df)"
      ],
      "execution_count": 0,
      "outputs": []
    },
    {
      "cell_type": "code",
      "metadata": {
        "id": "0y8a4VVmwktr",
        "colab_type": "code",
        "colab": {}
      },
      "source": [
        "# remove redundant datesets\n",
        "del UME, INCOME, CRIME"
      ],
      "execution_count": 0,
      "outputs": []
    },
    {
      "cell_type": "markdown",
      "metadata": {
        "id": "fSgZtpytiEn9",
        "colab_type": "text"
      },
      "source": [
        "# Foursquare Data (Social Distancing)"
      ]
    },
    {
      "cell_type": "code",
      "metadata": {
        "id": "GuQ7EW46zV0g",
        "colab_type": "code",
        "colab": {
          "base_uri": "https://localhost:8080/",
          "height": 202
        },
        "outputId": "059f3bd5-b385-4813-9d84-3d29f48d1d15"
      },
      "source": [
        "# load dataset\n",
        "F = pd.read_csv(\"https://raw.githubusercontent.com/PawinData/UC/SFBA/Data/Foursquare/fourSquareData.csv\")\n",
        "F.head()"
      ],
      "execution_count": 11,
      "outputs": [
        {
          "output_type": "execute_result",
          "data": {
            "text/html": [
              "<div>\n",
              "<style scoped>\n",
              "    .dataframe tbody tr th:only-of-type {\n",
              "        vertical-align: middle;\n",
              "    }\n",
              "\n",
              "    .dataframe tbody tr th {\n",
              "        vertical-align: top;\n",
              "    }\n",
              "\n",
              "    .dataframe thead th {\n",
              "        text-align: right;\n",
              "    }\n",
              "</style>\n",
              "<table border=\"1\" class=\"dataframe\">\n",
              "  <thead>\n",
              "    <tr style=\"text-align: right;\">\n",
              "      <th></th>\n",
              "      <th>date</th>\n",
              "      <th>county</th>\n",
              "      <th>categoryname</th>\n",
              "      <th>visits</th>\n",
              "    </tr>\n",
              "  </thead>\n",
              "  <tbody>\n",
              "    <tr>\n",
              "      <th>0</th>\n",
              "      <td>2020-02-01</td>\n",
              "      <td>San Mateo</td>\n",
              "      <td>Clothing Stores</td>\n",
              "      <td>10414</td>\n",
              "    </tr>\n",
              "    <tr>\n",
              "      <th>1</th>\n",
              "      <td>2020-02-01</td>\n",
              "      <td>San Mateo</td>\n",
              "      <td>Medical Centers</td>\n",
              "      <td>10314</td>\n",
              "    </tr>\n",
              "    <tr>\n",
              "      <th>2</th>\n",
              "      <td>2020-02-01</td>\n",
              "      <td>San Mateo</td>\n",
              "      <td>Banks</td>\n",
              "      <td>14876</td>\n",
              "    </tr>\n",
              "    <tr>\n",
              "      <th>3</th>\n",
              "      <td>2020-02-01</td>\n",
              "      <td>San Mateo</td>\n",
              "      <td>Pharmacies</td>\n",
              "      <td>24837</td>\n",
              "    </tr>\n",
              "    <tr>\n",
              "      <th>4</th>\n",
              "      <td>2020-02-01</td>\n",
              "      <td>San Mateo</td>\n",
              "      <td>Salons / Barbershops</td>\n",
              "      <td>11699</td>\n",
              "    </tr>\n",
              "  </tbody>\n",
              "</table>\n",
              "</div>"
            ],
            "text/plain": [
              "         date     county          categoryname  visits\n",
              "0  2020-02-01  San Mateo       Clothing Stores   10414\n",
              "1  2020-02-01  San Mateo       Medical Centers   10314\n",
              "2  2020-02-01  San Mateo                 Banks   14876\n",
              "3  2020-02-01  San Mateo            Pharmacies   24837\n",
              "4  2020-02-01  San Mateo  Salons / Barbershops   11699"
            ]
          },
          "metadata": {
            "tags": []
          },
          "execution_count": 11
        }
      ]
    },
    {
      "cell_type": "code",
      "metadata": {
        "id": "vjbnEfAR2d05",
        "colab_type": "code",
        "outputId": "98c64856-64cb-4fb1-9191-36624e311550",
        "colab": {
          "base_uri": "https://localhost:8080/",
          "height": 971
        }
      },
      "source": [
        "# print all categories of POIs\n",
        "POI = F.categoryname.tolist()\n",
        "POI.sort()\n",
        "POI = np.array(POI)\n",
        "POI = np.unique(POI)\n",
        "print(\"There are\",len(POI),\"categories of POIs.\")\n",
        "print(POI)"
      ],
      "execution_count": 12,
      "outputs": [
        {
          "output_type": "stream",
          "text": [
            "There are 206 categories of POIs.\n",
            "['Airport' 'Airport Gates' 'Airport Lounges' 'Airport Services'\n",
            " 'Airport Terminals' 'Airport Trams' 'Airports' 'Alcohol'\n",
            " 'American Restaurants' 'Art Galleries' 'Art Museums'\n",
            " 'Arts & Entertainment' 'Asian Restaurants' 'Auto Dealerships'\n",
            " 'Automotive Shops' 'BBQ Joints' 'Bagel Shops' 'Bakeries' 'Banks' 'Bars'\n",
            " 'Baseball Fields' 'Baseball Stadiums' 'Basketball Stadiums' 'Beach'\n",
            " 'Beaches' 'Beer Gardens' 'Big Box Stores' 'Boats or Ferries' 'Bookstores'\n",
            " 'Breakfast Spots' 'Breweries' 'Bridges' 'Bubble Tea Shops' 'Buildings'\n",
            " 'Burger Joints' 'Bus' 'Bus Lines' 'Bus Stations' 'Bus Stops'\n",
            " 'Business Centers' 'Cafés' 'Car Washes' 'Casinos' 'Chinese Restaurants'\n",
            " 'Chocolate Shops' 'Churches' 'Clothing Stores' 'Cocktail Bars'\n",
            " 'Coffee Shops' 'College Academic Buildings' 'College Cafeterias'\n",
            " 'College Engineering Buildings' 'College Libraries'\n",
            " 'Colleges & Universities' 'Community Colleges' 'Convenience Store'\n",
            " 'Convenience Stores' 'Convention Centers' 'Corporate Cafeterias'\n",
            " 'Cosmetics Shops' 'Coworking Spaces' 'Delis / Bodegas'\n",
            " \"Dentist's Offices\" 'Department Stores' 'Dessert Shops'\n",
            " 'Dim Sum Restaurants' 'Diners' 'Discount Stores' 'Dive Bars'\n",
            " \"Doctor's Offices\" 'Dog Runs' 'Donut Shops' 'Drug Store'\n",
            " 'EV Charging Stations' 'Electronics Stores' 'Elementary Schools'\n",
            " 'Event Spaces' 'Factories' 'Farmers Markets' 'Farms'\n",
            " 'Fast Food Restaurants' 'Fitness Center' 'Flea Markets' 'Food'\n",
            " 'Food Courts' 'Food Trucks' 'French Restaurants' 'Fried Chicken Joints'\n",
            " 'Furniture / Home Stores' 'Gardens' 'Gas Stations' 'Gastropubs'\n",
            " 'Gay Bars' 'General Entertainment' 'Gift Shops' 'Golf Courses'\n",
            " 'Government' 'Government Buildings' 'Grocery' 'Grocery Stores' 'Gyms'\n",
            " 'Gyms or Fitness Centers' 'Harbors / Marinas' 'Hardware Stores'\n",
            " 'High Schools' 'Historic Sites' 'Hockey Arenas' 'Hospitals' 'Hotel'\n",
            " 'Hotel Bars' 'Hotels' 'Housing Developments' 'Ice Cream Shops'\n",
            " 'Indian Restaurants' 'Intersections' 'Italian Restaurants'\n",
            " 'Japanese Restaurants' 'Juice Bars' 'Korean Restaurants' 'Lakes'\n",
            " 'Laundry Services' 'Libraries' 'Light Rail Stations' 'Liquor Stores'\n",
            " 'Lounges' 'Markets' 'Medical' 'Medical Centers' 'Medical Schools'\n",
            " 'Mediterranean Restaurants' 'Meeting Rooms' 'Metro Stations'\n",
            " 'Mexican Restaurants' 'Middle Schools' 'Military Bases'\n",
            " 'Miscellaneous Shops' 'Monuments / Landmarks' 'Movie Theaters'\n",
            " 'Music Venues' 'Nail Salons' 'National Parks' 'Nature Preserves'\n",
            " 'New American Restaurants' 'Nightclubs' 'Nightlife Spots' 'Office'\n",
            " 'Offices' 'Other Great Outdoors' 'Outdoor Sculptures'\n",
            " 'Outdoors & Recreation' 'Outlet Malls' 'Parking' 'Parks' 'Pet Stores'\n",
            " 'Pharmacies' 'Piers' 'Pizza Places' 'Playgrounds' 'Plazas' 'Pools'\n",
            " 'Post Offices' 'Professional & Other Places' 'Pubs' 'Ramen Restaurants'\n",
            " 'Rental Car Locations' 'Residences'\n",
            " 'Residential Buildings (Apartments / Condos)' 'Restaurants'\n",
            " 'Salad Places' 'Salons / Barbershops' 'Sandwich Places' 'Scenic Lookouts'\n",
            " 'School' 'Schools' 'Seafood Restaurants' 'Shipping Stores'\n",
            " 'Shopping Malls' 'Shopping Plazas' 'Shops & Services' 'Spas'\n",
            " 'Spiritual Center' 'Sporting Goods Shops' 'Sports' 'Sports Bars'\n",
            " 'State / Provincial Parks' 'Storage Facilities' 'Student Centers'\n",
            " 'Supermarkets' 'Sushi Restaurants' 'Tech Startups' 'Thai Restaurants'\n",
            " 'Theaters' 'Thrift / Vintage Stores' 'Toll Plazas' 'Trails'\n",
            " 'Train Stations' 'Travel & Transport' 'Universities'\n",
            " 'Vietnamese Restaurants' 'Vineyards' 'Warehouse Stores' 'Wine Bars'\n",
            " 'Wineries' \"Women's Stores\" 'Yoga Studios' 'Zoo Exhibits']\n"
          ],
          "name": "stdout"
        }
      ]
    },
    {
      "cell_type": "markdown",
      "metadata": {
        "id": "jjCpkyxYn5_Z",
        "colab_type": "text"
      },
      "source": [
        "## Classify POIs into 4 types"
      ]
    },
    {
      "cell_type": "code",
      "metadata": {
        "id": "nIy_BGlLS0cG",
        "colab_type": "code",
        "colab": {}
      },
      "source": [
        "# judge if a string contains any substring in a list\n",
        "def kw_classifier(st, lst):\n",
        "    judge = False\n",
        "    for element in lst:\n",
        "        if element in st:\n",
        "            judge = True\n",
        "            break\n",
        "    return judge"
      ],
      "execution_count": 0,
      "outputs": []
    },
    {
      "cell_type": "code",
      "metadata": {
        "id": "KD1Wy8rz9r6a",
        "colab_type": "code",
        "colab": {
          "base_uri": "https://localhost:8080/",
          "height": 260
        },
        "outputId": "674ebe56-a5c4-42f4-d3da-81b32da7a3e8"
      },
      "source": [
        "# Rough classifier by keywords\n",
        "Commercial = list()\n",
        "Edu_Med = list()\n",
        "Transport = list()\n",
        "Recreational = list()\n",
        "\n",
        "keywords = {\"Edu_Med\":[\"school\",\"college\",\"universit\",\"librar\",\"med\",\"doctor\",\n",
        "                       \"dentist\",\"hospital\",\"government\",\"student\"],\n",
        "            \"Commercial\":[\"store\",\"mall\",\"shop\",\"restaurant\",\"grocery\",\"bar\",\"plaza\",\n",
        "                          \"café\",\"deli\",\"dealer\",\"night\",\"bbq\",\"baker\",\"beer\",\"breakfast\",\n",
        "                          \"dine\",\"market\",\"food\",\"pharma\",\"place\",\"pub\",\"lounge\",\"joint\",\n",
        "                          \"office\",\"theater\"],\n",
        "            \"Transport\":[\"airport\",\"station\",\"bus\",\"boat\",\"pier\",\"hotel\",\"marina\",\"travel\"],\n",
        "            \"Recreational\":[\"art\",\"beach\",\"field\",\"stadium\",\"gym\",\"zoo\",\"dog\",\"fitness\",\n",
        "                            \"entertainment\",\"arena\",\"outdoor\",\"play\",\"golf\", \"landmark\"]}\n",
        "\n",
        "poi = POI.tolist()\n",
        "for element in POI.tolist():\n",
        "    ele = element.lower().strip()\n",
        "    if kw_classifier(ele, keywords[\"Edu_Med\"]):\n",
        "        Edu_Med.append(element)\n",
        "        poi.remove(element)\n",
        "    elif kw_classifier(ele, keywords[\"Transport\"]):\n",
        "        Transport.append(element)\n",
        "        poi.remove(element)\n",
        "    elif kw_classifier(ele, keywords[\"Commercial\"]):\n",
        "        Commercial.append(element)\n",
        "        poi.remove(element)\n",
        "    elif kw_classifier(ele, keywords[\"Recreational\"]):\n",
        "        Recreational.append(element)\n",
        "        poi.remove(element)\n",
        "\n",
        "print(\"Edu&Med:\",len(Edu_Med))\n",
        "print(\"Commercial:\",len(Commercial))\n",
        "print(\"Transport:\",len(Transport))\n",
        "print(\"Recreational:\",len(Recreational))\n",
        "print(\"There are\",len(poi),\"keywords left:\")\n",
        "print(np.array(poi))"
      ],
      "execution_count": 14,
      "outputs": [
        {
          "output_type": "stream",
          "text": [
            "Edu&Med: 23\n",
            "Commercial: 95\n",
            "Transport: 24\n",
            "Recreational: 23\n",
            "There are 41 keywords left:\n",
            "['Alcohol' 'Banks' 'Breweries' 'Bridges' 'Buildings' 'Car Washes'\n",
            " 'Casinos' 'Churches' 'Convention Centers' 'Corporate Cafeterias'\n",
            " 'Coworking Spaces' 'Event Spaces' 'Factories' 'Farms' 'Gardens'\n",
            " 'Historic Sites' 'Housing Developments' 'Intersections' 'Lakes'\n",
            " 'Laundry Services' 'Meeting Rooms' 'Military Bases' 'Music Venues'\n",
            " 'Nail Salons' 'National Parks' 'Nature Preserves' 'Parking' 'Parks'\n",
            " 'Pools' 'Rental Car Locations' 'Residences' 'Scenic Lookouts' 'Spas'\n",
            " 'Spiritual Center' 'Sports' 'State / Provincial Parks'\n",
            " 'Storage Facilities' 'Trails' 'Vineyards' 'Wineries' 'Yoga Studios']\n"
          ],
          "name": "stdout"
        }
      ]
    },
    {
      "cell_type": "code",
      "metadata": {
        "id": "XIE5-CAd7t4E",
        "colab_type": "code",
        "colab": {
          "base_uri": "https://localhost:8080/",
          "height": 159
        },
        "outputId": "5935c41b-e556-432b-e475-51e37fa11a5d"
      },
      "source": [
        "# Prune classifier manually\n",
        "Commercial.extend([\"Alcohol\",\"Banks\",\"Car Washes\",\"Casinos\",\"Corporate Cafeterias\",\n",
        "                  \"Coworking Spaces\", \"Event Spaces\", \"Laundry Services\",\n",
        "                  \"Music Venues\", \"Nail Salons\", \"Retal Car Locations\", \"Spas\",\n",
        "                  \"Meeting Rooms\"])\n",
        "Recreational.extend([\"Gardens\",\"Historic Sites\",\"Lakes\",\"Pools\",\"Sports\",\n",
        "                    \"Yoga Studios\"])\n",
        "Transport.append(\"Intersections\")\n",
        "\n",
        "print(\"Edu_Med:\", Edu_Med)\n",
        "print(\"\")\n",
        "print(\"Commercial:\", Commercial)\n",
        "print(\"\")\n",
        "print(\"Transport:\", Transport)\n",
        "print(\"\")\n",
        "print(\"Recreational:\", Recreational)"
      ],
      "execution_count": 15,
      "outputs": [
        {
          "output_type": "stream",
          "text": [
            "Edu_Med: ['College Academic Buildings', 'College Cafeterias', 'College Engineering Buildings', 'College Libraries', 'Colleges & Universities', 'Community Colleges', \"Dentist's Offices\", \"Doctor's Offices\", 'Elementary Schools', 'Government', 'Government Buildings', 'High Schools', 'Hospitals', 'Libraries', 'Medical', 'Medical Centers', 'Medical Schools', 'Mediterranean Restaurants', 'Middle Schools', 'School', 'Schools', 'Student Centers', 'Universities']\n",
            "\n",
            "Commercial: ['American Restaurants', 'Asian Restaurants', 'Auto Dealerships', 'Automotive Shops', 'BBQ Joints', 'Bagel Shops', 'Bakeries', 'Bars', 'Beer Gardens', 'Big Box Stores', 'Bookstores', 'Breakfast Spots', 'Bubble Tea Shops', 'Burger Joints', 'Cafés', 'Chinese Restaurants', 'Chocolate Shops', 'Clothing Stores', 'Cocktail Bars', 'Coffee Shops', 'Convenience Store', 'Convenience Stores', 'Cosmetics Shops', 'Delis / Bodegas', 'Department Stores', 'Dessert Shops', 'Dim Sum Restaurants', 'Diners', 'Discount Stores', 'Dive Bars', 'Donut Shops', 'Drug Store', 'Electronics Stores', 'Farmers Markets', 'Fast Food Restaurants', 'Flea Markets', 'Food', 'Food Courts', 'Food Trucks', 'French Restaurants', 'Fried Chicken Joints', 'Furniture / Home Stores', 'Gastropubs', 'Gay Bars', 'Gift Shops', 'Grocery', 'Grocery Stores', 'Hardware Stores', 'Ice Cream Shops', 'Indian Restaurants', 'Italian Restaurants', 'Japanese Restaurants', 'Juice Bars', 'Korean Restaurants', 'Liquor Stores', 'Lounges', 'Markets', 'Mexican Restaurants', 'Miscellaneous Shops', 'Movie Theaters', 'New American Restaurants', 'Nightclubs', 'Nightlife Spots', 'Office', 'Offices', 'Outlet Malls', 'Pet Stores', 'Pharmacies', 'Pizza Places', 'Plazas', 'Post Offices', 'Professional & Other Places', 'Pubs', 'Ramen Restaurants', 'Restaurants', 'Salad Places', 'Salons / Barbershops', 'Sandwich Places', 'Seafood Restaurants', 'Shipping Stores', 'Shopping Malls', 'Shopping Plazas', 'Shops & Services', 'Sporting Goods Shops', 'Sports Bars', 'Supermarkets', 'Sushi Restaurants', 'Thai Restaurants', 'Theaters', 'Thrift / Vintage Stores', 'Toll Plazas', 'Vietnamese Restaurants', 'Warehouse Stores', 'Wine Bars', \"Women's Stores\", 'Alcohol', 'Banks', 'Car Washes', 'Casinos', 'Corporate Cafeterias', 'Coworking Spaces', 'Event Spaces', 'Laundry Services', 'Music Venues', 'Nail Salons', 'Retal Car Locations', 'Spas', 'Meeting Rooms']\n",
            "\n",
            "Transport: ['Airport', 'Airport Gates', 'Airport Lounges', 'Airport Services', 'Airport Terminals', 'Airport Trams', 'Airports', 'Boats or Ferries', 'Bus', 'Bus Lines', 'Bus Stations', 'Bus Stops', 'Business Centers', 'EV Charging Stations', 'Gas Stations', 'Harbors / Marinas', 'Hotel', 'Hotel Bars', 'Hotels', 'Light Rail Stations', 'Metro Stations', 'Piers', 'Train Stations', 'Travel & Transport', 'Intersections']\n",
            "\n",
            "Recreational: ['Art Galleries', 'Art Museums', 'Arts & Entertainment', 'Baseball Fields', 'Baseball Stadiums', 'Basketball Stadiums', 'Beach', 'Beaches', 'Dog Runs', 'Fitness Center', 'General Entertainment', 'Golf Courses', 'Gyms', 'Gyms or Fitness Centers', 'Hockey Arenas', 'Monuments / Landmarks', 'Other Great Outdoors', 'Outdoor Sculptures', 'Outdoors & Recreation', 'Playgrounds', 'Residential Buildings (Apartments / Condos)', 'Tech Startups', 'Zoo Exhibits', 'Gardens', 'Historic Sites', 'Lakes', 'Pools', 'Sports', 'Yoga Studios']\n"
          ],
          "name": "stdout"
        }
      ]
    },
    {
      "cell_type": "markdown",
      "metadata": {
        "id": "9tH1b53KsH7a",
        "colab_type": "text"
      },
      "source": [
        "## Create feature dataframes"
      ]
    },
    {
      "cell_type": "code",
      "metadata": {
        "id": "-O8f70CisUCd",
        "colab_type": "code",
        "colab": {}
      },
      "source": [
        "edu_med = 0\n",
        "commercial = 0\n",
        "transport = 0\n",
        "recreational = 0\n",
        "d = dict()\n",
        "\n",
        "for date in Time_Window:\n",
        "    DATA = F.loc[F[\"date\"]==date]\n",
        "    for cnty in Counties:  # count the number of visits for each type of POI in each county\n",
        "        data = DATA.loc[DATA[\"county\"]==cnty]\n",
        "        B = data[[\"categoryname\",\"visits\"]].to_numpy()\n",
        "        for POI,num in B:\n",
        "            if POI in Edu_Med: edu_med += num \n",
        "            if POI in Commercial: commercial += num \n",
        "            if POI in Transport: transport += num\n",
        "            if POI in Recreational: recreational += num \n",
        "        d[cnty] = [edu_med, commercial, transport, recreational]\n",
        "    d = pd.DataFrame(d, index=[\"Edu&Med\",\"Commercial\",\"Transport\",\"Recreational\"])\n",
        "    FEATURES[date] = FEATURES[date].append(d)"
      ],
      "execution_count": 0,
      "outputs": []
    },
    {
      "cell_type": "code",
      "metadata": {
        "id": "_21k5hMUsy6c",
        "colab_type": "code",
        "colab": {}
      },
      "source": [
        "del F   # remove redundant objects"
      ],
      "execution_count": 0,
      "outputs": []
    },
    {
      "cell_type": "markdown",
      "metadata": {
        "id": "LM26qW6qumIQ",
        "colab_type": "text"
      },
      "source": [
        "# Normalization"
      ]
    },
    {
      "cell_type": "code",
      "metadata": {
        "id": "ks0Qzd8LuFG4",
        "colab_type": "code",
        "colab": {
          "base_uri": "https://localhost:8080/",
          "height": 355
        },
        "outputId": "e8a07bdd-dfb8-4c18-bd32-b6aa3c64e27e"
      },
      "source": [
        "# store the feature dataframes\n",
        "dump(FEATURES, open(\"FEATURES_raw.p\",\"wb\"))\n",
        "\n",
        "FEATURES[start]     # print out the feature dataframe for the first day"
      ],
      "execution_count": 34,
      "outputs": [
        {
          "output_type": "execute_result",
          "data": {
            "text/html": [
              "<div>\n",
              "<style scoped>\n",
              "    .dataframe tbody tr th:only-of-type {\n",
              "        vertical-align: middle;\n",
              "    }\n",
              "\n",
              "    .dataframe tbody tr th {\n",
              "        vertical-align: top;\n",
              "    }\n",
              "\n",
              "    .dataframe thead th {\n",
              "        text-align: right;\n",
              "    }\n",
              "</style>\n",
              "<table border=\"1\" class=\"dataframe\">\n",
              "  <thead>\n",
              "    <tr style=\"text-align: right;\">\n",
              "      <th></th>\n",
              "      <th>Alameda</th>\n",
              "      <th>Contra Costa</th>\n",
              "      <th>Marin</th>\n",
              "      <th>Napa</th>\n",
              "      <th>San Francisco</th>\n",
              "      <th>San Mateo</th>\n",
              "      <th>Santa Clara</th>\n",
              "      <th>Solano</th>\n",
              "      <th>Sonoma</th>\n",
              "    </tr>\n",
              "  </thead>\n",
              "  <tbody>\n",
              "    <tr>\n",
              "      <th>temperature</th>\n",
              "      <td>2.826250e+02</td>\n",
              "      <td>2.826250e+02</td>\n",
              "      <td>2.859250e+02</td>\n",
              "      <td>2.826250e+02</td>\n",
              "      <td>2.859250e+02</td>\n",
              "      <td>2.859500e+02</td>\n",
              "      <td>2.859500e+02</td>\n",
              "      <td>2.826250e+02</td>\n",
              "      <td>2.859250e+02</td>\n",
              "    </tr>\n",
              "    <tr>\n",
              "      <th>wind_speed</th>\n",
              "      <td>-1.037500e+00</td>\n",
              "      <td>-5.016667e-01</td>\n",
              "      <td>1.419583e+00</td>\n",
              "      <td>1.475000e-01</td>\n",
              "      <td>3.445833e-01</td>\n",
              "      <td>-3.041667e-01</td>\n",
              "      <td>-1.443333e+00</td>\n",
              "      <td>-1.135000e+00</td>\n",
              "      <td>5.708333e-01</td>\n",
              "    </tr>\n",
              "    <tr>\n",
              "      <th>precipitation</th>\n",
              "      <td>0.000000e+00</td>\n",
              "      <td>0.000000e+00</td>\n",
              "      <td>0.000000e+00</td>\n",
              "      <td>0.000000e+00</td>\n",
              "      <td>0.000000e+00</td>\n",
              "      <td>0.000000e+00</td>\n",
              "      <td>0.000000e+00</td>\n",
              "      <td>0.000000e+00</td>\n",
              "      <td>0.000000e+00</td>\n",
              "    </tr>\n",
              "    <tr>\n",
              "      <th>unemployment_rate</th>\n",
              "      <td>3.000000e+00</td>\n",
              "      <td>3.100000e+00</td>\n",
              "      <td>2.300000e+00</td>\n",
              "      <td>3.200000e+00</td>\n",
              "      <td>2.300000e+00</td>\n",
              "      <td>2.100000e+00</td>\n",
              "      <td>2.600000e+00</td>\n",
              "      <td>3.900000e+00</td>\n",
              "      <td>2.800000e+00</td>\n",
              "    </tr>\n",
              "    <tr>\n",
              "      <th>crime_rate</th>\n",
              "      <td>7.536936e+02</td>\n",
              "      <td>4.006562e+02</td>\n",
              "      <td>1.896542e+02</td>\n",
              "      <td>3.456238e+02</td>\n",
              "      <td>2.654077e+02</td>\n",
              "      <td>7.014217e+02</td>\n",
              "      <td>2.353577e+02</td>\n",
              "      <td>4.345697e+02</td>\n",
              "      <td>3.620019e+02</td>\n",
              "    </tr>\n",
              "    <tr>\n",
              "      <th>income_per_capita</th>\n",
              "      <td>3.643900e+04</td>\n",
              "      <td>3.877000e+04</td>\n",
              "      <td>5.800400e+04</td>\n",
              "      <td>3.509200e+04</td>\n",
              "      <td>4.998600e+04</td>\n",
              "      <td>4.719800e+04</td>\n",
              "      <td>4.266600e+04</td>\n",
              "      <td>2.913200e+04</td>\n",
              "      <td>3.336100e+04</td>\n",
              "    </tr>\n",
              "    <tr>\n",
              "      <th>Edu&amp;Med</th>\n",
              "      <td>3.203650e+05</td>\n",
              "      <td>4.878590e+05</td>\n",
              "      <td>5.055160e+05</td>\n",
              "      <td>5.055160e+05</td>\n",
              "      <td>6.903490e+05</td>\n",
              "      <td>8.451740e+05</td>\n",
              "      <td>1.403718e+06</td>\n",
              "      <td>1.438226e+06</td>\n",
              "      <td>1.475576e+06</td>\n",
              "    </tr>\n",
              "    <tr>\n",
              "      <th>Commercial</th>\n",
              "      <td>3.313228e+06</td>\n",
              "      <td>5.194267e+06</td>\n",
              "      <td>5.562107e+06</td>\n",
              "      <td>5.787948e+06</td>\n",
              "      <td>8.781956e+06</td>\n",
              "      <td>1.082928e+07</td>\n",
              "      <td>1.536301e+07</td>\n",
              "      <td>1.608541e+07</td>\n",
              "      <td>1.696995e+07</td>\n",
              "    </tr>\n",
              "    <tr>\n",
              "      <th>Transport</th>\n",
              "      <td>5.010300e+05</td>\n",
              "      <td>6.737580e+05</td>\n",
              "      <td>7.052300e+05</td>\n",
              "      <td>7.638980e+05</td>\n",
              "      <td>1.331759e+06</td>\n",
              "      <td>2.354021e+06</td>\n",
              "      <td>2.934537e+06</td>\n",
              "      <td>3.029060e+06</td>\n",
              "      <td>3.110246e+06</td>\n",
              "    </tr>\n",
              "    <tr>\n",
              "      <th>Recreational</th>\n",
              "      <td>5.397720e+05</td>\n",
              "      <td>8.624970e+05</td>\n",
              "      <td>9.812710e+05</td>\n",
              "      <td>1.014224e+06</td>\n",
              "      <td>1.871061e+06</td>\n",
              "      <td>2.225947e+06</td>\n",
              "      <td>2.942989e+06</td>\n",
              "      <td>3.038579e+06</td>\n",
              "      <td>3.165341e+06</td>\n",
              "    </tr>\n",
              "  </tbody>\n",
              "</table>\n",
              "</div>"
            ],
            "text/plain": [
              "                        Alameda  Contra Costa  ...        Solano        Sonoma\n",
              "temperature        2.826250e+02  2.826250e+02  ...  2.826250e+02  2.859250e+02\n",
              "wind_speed        -1.037500e+00 -5.016667e-01  ... -1.135000e+00  5.708333e-01\n",
              "precipitation      0.000000e+00  0.000000e+00  ...  0.000000e+00  0.000000e+00\n",
              "unemployment_rate  3.000000e+00  3.100000e+00  ...  3.900000e+00  2.800000e+00\n",
              "crime_rate         7.536936e+02  4.006562e+02  ...  4.345697e+02  3.620019e+02\n",
              "income_per_capita  3.643900e+04  3.877000e+04  ...  2.913200e+04  3.336100e+04\n",
              "Edu&Med            3.203650e+05  4.878590e+05  ...  1.438226e+06  1.475576e+06\n",
              "Commercial         3.313228e+06  5.194267e+06  ...  1.608541e+07  1.696995e+07\n",
              "Transport          5.010300e+05  6.737580e+05  ...  3.029060e+06  3.110246e+06\n",
              "Recreational       5.397720e+05  8.624970e+05  ...  3.038579e+06  3.165341e+06\n",
              "\n",
              "[10 rows x 9 columns]"
            ]
          },
          "metadata": {
            "tags": []
          },
          "execution_count": 34
        }
      ]
    },
    {
      "cell_type": "code",
      "metadata": {
        "id": "Ych-be_GvDE2",
        "colab_type": "code",
        "colab": {}
      },
      "source": [
        "FEATURES = load(open(\"FEATURES_raw.p\",\"rb\"))\n",
        "\n",
        "for date in Time_Window:\n",
        "    features = FEATURES[date].to_numpy()\n",
        "    IND = FEATURES[date].index\n",
        "    rows,cols = features.shape\n",
        "    for i in range(rows):   # normalize each row of a feature dataframe\n",
        "        Row = features[i,:]\n",
        "        if not np.std(Row)==0:\n",
        "            Row = (Row - np.mean(Row)) / np.std(Row)\n",
        "        features[i,:] = Row\n",
        "    FEATURES[date] = pd.DataFrame(features, columns=Counties, index=IND)"
      ],
      "execution_count": 0,
      "outputs": []
    },
    {
      "cell_type": "code",
      "metadata": {
        "id": "GHr_e_n8yf1j",
        "colab_type": "code",
        "colab": {
          "base_uri": "https://localhost:8080/",
          "height": 355
        },
        "outputId": "b44d7617-dc32-4b52-80c2-e5340c97c2e7"
      },
      "source": [
        "FEATURES[start]  # print out the normalized feature dataframe for the first day"
      ],
      "execution_count": 43,
      "outputs": [
        {
          "output_type": "execute_result",
          "data": {
            "text/html": [
              "<div>\n",
              "<style scoped>\n",
              "    .dataframe tbody tr th:only-of-type {\n",
              "        vertical-align: middle;\n",
              "    }\n",
              "\n",
              "    .dataframe tbody tr th {\n",
              "        vertical-align: top;\n",
              "    }\n",
              "\n",
              "    .dataframe thead th {\n",
              "        text-align: right;\n",
              "    }\n",
              "</style>\n",
              "<table border=\"1\" class=\"dataframe\">\n",
              "  <thead>\n",
              "    <tr style=\"text-align: right;\">\n",
              "      <th></th>\n",
              "      <th>Alameda</th>\n",
              "      <th>Contra Costa</th>\n",
              "      <th>Marin</th>\n",
              "      <th>Napa</th>\n",
              "      <th>San Francisco</th>\n",
              "      <th>San Mateo</th>\n",
              "      <th>Santa Clara</th>\n",
              "      <th>Solano</th>\n",
              "      <th>Sonoma</th>\n",
              "    </tr>\n",
              "  </thead>\n",
              "  <tbody>\n",
              "    <tr>\n",
              "      <th>temperature</th>\n",
              "      <td>-1.118017</td>\n",
              "      <td>-1.118017</td>\n",
              "      <td>0.888334</td>\n",
              "      <td>-1.118017</td>\n",
              "      <td>0.888334</td>\n",
              "      <td>0.903533</td>\n",
              "      <td>0.903533</td>\n",
              "      <td>-1.118017</td>\n",
              "      <td>0.888334</td>\n",
              "    </tr>\n",
              "    <tr>\n",
              "      <th>wind_speed</th>\n",
              "      <td>-0.941856</td>\n",
              "      <td>-0.327920</td>\n",
              "      <td>1.873368</td>\n",
              "      <td>0.415868</td>\n",
              "      <td>0.641678</td>\n",
              "      <td>-0.101633</td>\n",
              "      <td>-1.406843</td>\n",
              "      <td>-1.053567</td>\n",
              "      <td>0.900906</td>\n",
              "    </tr>\n",
              "    <tr>\n",
              "      <th>precipitation</th>\n",
              "      <td>0.000000</td>\n",
              "      <td>0.000000</td>\n",
              "      <td>0.000000</td>\n",
              "      <td>0.000000</td>\n",
              "      <td>0.000000</td>\n",
              "      <td>0.000000</td>\n",
              "      <td>0.000000</td>\n",
              "      <td>0.000000</td>\n",
              "      <td>0.000000</td>\n",
              "    </tr>\n",
              "    <tr>\n",
              "      <th>unemployment_rate</th>\n",
              "      <td>0.356339</td>\n",
              "      <td>0.544988</td>\n",
              "      <td>-0.964210</td>\n",
              "      <td>0.733638</td>\n",
              "      <td>-0.964210</td>\n",
              "      <td>-1.341510</td>\n",
              "      <td>-0.398261</td>\n",
              "      <td>2.054187</td>\n",
              "      <td>-0.020961</td>\n",
              "    </tr>\n",
              "    <tr>\n",
              "      <th>crime_rate</th>\n",
              "      <td>1.852394</td>\n",
              "      <td>-0.049368</td>\n",
              "      <td>-1.186006</td>\n",
              "      <td>-0.345820</td>\n",
              "      <td>-0.777932</td>\n",
              "      <td>1.570813</td>\n",
              "      <td>-0.939807</td>\n",
              "      <td>0.133319</td>\n",
              "      <td>-0.257593</td>\n",
              "    </tr>\n",
              "    <tr>\n",
              "      <th>income_per_capita</th>\n",
              "      <td>-0.549574</td>\n",
              "      <td>-0.279543</td>\n",
              "      <td>1.948588</td>\n",
              "      <td>-0.705615</td>\n",
              "      <td>1.019756</td>\n",
              "      <td>0.696785</td>\n",
              "      <td>0.171783</td>\n",
              "      <td>-1.396041</td>\n",
              "      <td>-0.906139</td>\n",
              "    </tr>\n",
              "    <tr>\n",
              "      <th>Edu&amp;Med</th>\n",
              "      <td>-1.217758</td>\n",
              "      <td>-0.834442</td>\n",
              "      <td>-0.794034</td>\n",
              "      <td>-0.794034</td>\n",
              "      <td>-0.371037</td>\n",
              "      <td>-0.016715</td>\n",
              "      <td>1.261533</td>\n",
              "      <td>1.340505</td>\n",
              "      <td>1.425982</td>\n",
              "    </tr>\n",
              "    <tr>\n",
              "      <th>Commercial</th>\n",
              "      <td>-1.301163</td>\n",
              "      <td>-0.921818</td>\n",
              "      <td>-0.847636</td>\n",
              "      <td>-0.802092</td>\n",
              "      <td>-0.198296</td>\n",
              "      <td>0.214583</td>\n",
              "      <td>1.128890</td>\n",
              "      <td>1.274575</td>\n",
              "      <td>1.452958</td>\n",
              "    </tr>\n",
              "    <tr>\n",
              "      <th>Transport</th>\n",
              "      <td>-1.137155</td>\n",
              "      <td>-0.974889</td>\n",
              "      <td>-0.945323</td>\n",
              "      <td>-0.890209</td>\n",
              "      <td>-0.356744</td>\n",
              "      <td>0.603599</td>\n",
              "      <td>1.148953</td>\n",
              "      <td>1.237750</td>\n",
              "      <td>1.314019</td>\n",
              "    </tr>\n",
              "    <tr>\n",
              "      <th>Recreational</th>\n",
              "      <td>-1.337517</td>\n",
              "      <td>-1.007838</td>\n",
              "      <td>-0.886505</td>\n",
              "      <td>-0.852842</td>\n",
              "      <td>0.022459</td>\n",
              "      <td>0.384992</td>\n",
              "      <td>1.117486</td>\n",
              "      <td>1.215136</td>\n",
              "      <td>1.344629</td>\n",
              "    </tr>\n",
              "  </tbody>\n",
              "</table>\n",
              "</div>"
            ],
            "text/plain": [
              "                    Alameda  Contra Costa  ...    Solano    Sonoma\n",
              "temperature       -1.118017     -1.118017  ... -1.118017  0.888334\n",
              "wind_speed        -0.941856     -0.327920  ... -1.053567  0.900906\n",
              "precipitation      0.000000      0.000000  ...  0.000000  0.000000\n",
              "unemployment_rate  0.356339      0.544988  ...  2.054187 -0.020961\n",
              "crime_rate         1.852394     -0.049368  ...  0.133319 -0.257593\n",
              "income_per_capita -0.549574     -0.279543  ... -1.396041 -0.906139\n",
              "Edu&Med           -1.217758     -0.834442  ...  1.340505  1.425982\n",
              "Commercial        -1.301163     -0.921818  ...  1.274575  1.452958\n",
              "Transport         -1.137155     -0.974889  ...  1.237750  1.314019\n",
              "Recreational      -1.337517     -1.007838  ...  1.215136  1.344629\n",
              "\n",
              "[10 rows x 9 columns]"
            ]
          },
          "metadata": {
            "tags": []
          },
          "execution_count": 43
        }
      ]
    },
    {
      "cell_type": "code",
      "metadata": {
        "id": "GnQT3z2e15tI",
        "colab_type": "code",
        "colab": {}
      },
      "source": [
        "# store the dictionary of normalized feature dataframes\n",
        "dump(FEATURES, open(\"FEATURES_normal.p\",\"wb\"))"
      ],
      "execution_count": 0,
      "outputs": []
    }
  ]
}
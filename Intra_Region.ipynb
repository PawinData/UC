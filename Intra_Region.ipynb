{
  "nbformat": 4,
  "nbformat_minor": 0,
  "metadata": {
    "colab": {
      "name": "Intra_Region.ipynb",
      "provenance": [],
      "authorship_tag": "ABX9TyN3oOqTbYuBGux+NVJBf0HK",
      "include_colab_link": true
    },
    "kernelspec": {
      "name": "python3",
      "display_name": "Python 3"
    }
  },
  "cells": [
    {
      "cell_type": "markdown",
      "metadata": {
        "id": "view-in-github",
        "colab_type": "text"
      },
      "source": [
        "<a href=\"https://colab.research.google.com/github/PawinData/UC/blob/master/Intra_Region.ipynb\" target=\"_parent\"><img src=\"https://colab.research.google.com/assets/colab-badge.svg\" alt=\"Open In Colab\"/></a>"
      ]
    },
    {
      "cell_type": "code",
      "metadata": {
        "id": "8BmYVcVyWgG_",
        "colab_type": "code",
        "colab": {}
      },
      "source": [
        "import pandas as pd\n",
        "import numpy as np\n",
        "import matplotlib.pyplot as plt\n",
        "from functions import str_to_day, day_to_str, check_missing"
      ],
      "execution_count": 0,
      "outputs": []
    },
    {
      "cell_type": "code",
      "metadata": {
        "id": "Ce8cjd0CwP9J",
        "colab_type": "code",
        "colab": {}
      },
      "source": [
        "# read in raw data\n",
        "DATA = pd.read_csv(\"https://raw.githubusercontent.com/PawinData/UC/master/Data_cleaned.csv\")"
      ],
      "execution_count": 0,
      "outputs": []
    },
    {
      "cell_type": "code",
      "metadata": {
        "id": "YR1StrGuxJF2",
        "colab_type": "code",
        "colab": {}
      },
      "source": [
        "# 10 counties in South California\n",
        "\n",
        "COUNTIES = [\"San Luis Obispo\", \"Kern\", \"Santa Barbara\", \"Ventura\", \"Los Angeles\",\n",
        "            \"Orange\", \"Riverside\", \"San Bernardino\", \"San Diego\", \"Imperial\"]\n",
        "COUNTIES.sort()"
      ],
      "execution_count": 0,
      "outputs": []
    },
    {
      "cell_type": "code",
      "metadata": {
        "id": "tsnb31Pj6p9R",
        "colab_type": "code",
        "colab": {
          "base_uri": "https://localhost:8080/",
          "height": 187
        },
        "outputId": "4250e33b-b40e-49a7-fca2-3edda7ef1146"
      },
      "source": [
        "# check if the report of confirmed cases has been incessant in the counties\n",
        "for cnty in COUNTIES:\n",
        "    print(cnty, \"has no missing data: \", check_missing(DATA.loc[DATA[\"county\"]==cnty][\"date\"]))"
      ],
      "execution_count": 24,
      "outputs": [
        {
          "output_type": "stream",
          "text": [
            "Imperial has no missing data:  True\n",
            "Kern has no missing data:  True\n",
            "Los Angeles has no missing data:  True\n",
            "Orange has no missing data:  True\n",
            "Riverside has no missing data:  True\n",
            "San Bernardino has no missing data:  True\n",
            "San Diego has no missing data:  True\n",
            "San Luis Obispo has no missing data:  True\n",
            "Santa Barbara has no missing data:  True\n",
            "Ventura has no missing data:  True\n"
          ],
          "name": "stdout"
        }
      ]
    },
    {
      "cell_type": "code",
      "metadata": {
        "id": "aegfxO3SxyzK",
        "colab_type": "code",
        "colab": {}
      },
      "source": [
        "T = list()\n",
        "D = dict()\n",
        "\n",
        "for cnty in COUNTIES:\n",
        "    data = DATA.loc[DATA[\"county\"]==cnty]\n",
        "    time = [str_to_day(dd) for dd in data[\"date\"]]\n",
        "    # record the date when the first case was confirmed in each county\n",
        "    D[cnty] = time[0]    \n",
        "    cases_count = list(data[\"cases\"])\n",
        "    cases_count = [cases_count[0]] + [cases_count[i]-cases_count[i-1] for i in range(1,len(cases_count))]\n",
        "    if time[0]>1:\n",
        "        cases_count = [0] * (time[0] - 1) + cases_count\n",
        "    T.append(cases_count)\n",
        "\n",
        "# construct an array\n",
        "# each row is the time series of cases count for a county    \n",
        "TimeSeries = np.array(T)"
      ],
      "execution_count": 0,
      "outputs": []
    },
    {
      "cell_type": "code",
      "metadata": {
        "id": "ZzL8syLz1tPd",
        "colab_type": "code",
        "colab": {}
      },
      "source": [
        "# save the array of cases count as a dataframe\n",
        "DF = pd.DataFrame(TimeSeries, index=COUNTIES, columns=[day_to_str(dd) for dd in range(1,76+1)])\n",
        "DF.to_csv(\"Daily_New_Cases.csv\", sep=\",\")"
      ],
      "execution_count": 0,
      "outputs": []
    },
    {
      "cell_type": "code",
      "metadata": {
        "id": "Eb4gsRdH99hZ",
        "colab_type": "code",
        "colab": {
          "base_uri": "https://localhost:8080/",
          "height": 359
        },
        "outputId": "f24788a6-47af-40fe-c9d6-2bce426e2517"
      },
      "source": [
        "# display the first few columns of the dataframe for daily new cases\n",
        "DF.loc[:,:\"2020-02-02\"]"
      ],
      "execution_count": 14,
      "outputs": [
        {
          "output_type": "execute_result",
          "data": {
            "text/html": [
              "<div>\n",
              "<style scoped>\n",
              "    .dataframe tbody tr th:only-of-type {\n",
              "        vertical-align: middle;\n",
              "    }\n",
              "\n",
              "    .dataframe tbody tr th {\n",
              "        vertical-align: top;\n",
              "    }\n",
              "\n",
              "    .dataframe thead th {\n",
              "        text-align: right;\n",
              "    }\n",
              "</style>\n",
              "<table border=\"1\" class=\"dataframe\">\n",
              "  <thead>\n",
              "    <tr style=\"text-align: right;\">\n",
              "      <th></th>\n",
              "      <th>2020-01-25</th>\n",
              "      <th>2020-01-26</th>\n",
              "      <th>2020-01-27</th>\n",
              "      <th>2020-01-28</th>\n",
              "      <th>2020-01-29</th>\n",
              "      <th>2020-01-30</th>\n",
              "      <th>2020-01-31</th>\n",
              "      <th>2020-02-01</th>\n",
              "      <th>2020-02-02</th>\n",
              "    </tr>\n",
              "  </thead>\n",
              "  <tbody>\n",
              "    <tr>\n",
              "      <th>Imperial</th>\n",
              "      <td>0</td>\n",
              "      <td>0</td>\n",
              "      <td>0</td>\n",
              "      <td>0</td>\n",
              "      <td>0</td>\n",
              "      <td>0</td>\n",
              "      <td>0</td>\n",
              "      <td>0</td>\n",
              "      <td>0</td>\n",
              "    </tr>\n",
              "    <tr>\n",
              "      <th>Kern</th>\n",
              "      <td>0</td>\n",
              "      <td>0</td>\n",
              "      <td>0</td>\n",
              "      <td>0</td>\n",
              "      <td>0</td>\n",
              "      <td>0</td>\n",
              "      <td>0</td>\n",
              "      <td>0</td>\n",
              "      <td>0</td>\n",
              "    </tr>\n",
              "    <tr>\n",
              "      <th>Los Angeles</th>\n",
              "      <td>0</td>\n",
              "      <td>1</td>\n",
              "      <td>0</td>\n",
              "      <td>0</td>\n",
              "      <td>0</td>\n",
              "      <td>0</td>\n",
              "      <td>0</td>\n",
              "      <td>0</td>\n",
              "      <td>0</td>\n",
              "    </tr>\n",
              "    <tr>\n",
              "      <th>Orange</th>\n",
              "      <td>1</td>\n",
              "      <td>0</td>\n",
              "      <td>0</td>\n",
              "      <td>0</td>\n",
              "      <td>0</td>\n",
              "      <td>0</td>\n",
              "      <td>0</td>\n",
              "      <td>0</td>\n",
              "      <td>0</td>\n",
              "    </tr>\n",
              "    <tr>\n",
              "      <th>Riverside</th>\n",
              "      <td>0</td>\n",
              "      <td>0</td>\n",
              "      <td>0</td>\n",
              "      <td>0</td>\n",
              "      <td>0</td>\n",
              "      <td>0</td>\n",
              "      <td>0</td>\n",
              "      <td>0</td>\n",
              "      <td>0</td>\n",
              "    </tr>\n",
              "    <tr>\n",
              "      <th>San Bernardino</th>\n",
              "      <td>0</td>\n",
              "      <td>0</td>\n",
              "      <td>0</td>\n",
              "      <td>0</td>\n",
              "      <td>0</td>\n",
              "      <td>0</td>\n",
              "      <td>0</td>\n",
              "      <td>0</td>\n",
              "      <td>0</td>\n",
              "    </tr>\n",
              "    <tr>\n",
              "      <th>San Diego</th>\n",
              "      <td>0</td>\n",
              "      <td>0</td>\n",
              "      <td>0</td>\n",
              "      <td>0</td>\n",
              "      <td>0</td>\n",
              "      <td>0</td>\n",
              "      <td>0</td>\n",
              "      <td>0</td>\n",
              "      <td>0</td>\n",
              "    </tr>\n",
              "    <tr>\n",
              "      <th>San Luis Obispo</th>\n",
              "      <td>0</td>\n",
              "      <td>0</td>\n",
              "      <td>0</td>\n",
              "      <td>0</td>\n",
              "      <td>0</td>\n",
              "      <td>0</td>\n",
              "      <td>0</td>\n",
              "      <td>0</td>\n",
              "      <td>0</td>\n",
              "    </tr>\n",
              "    <tr>\n",
              "      <th>Santa Barbara</th>\n",
              "      <td>0</td>\n",
              "      <td>0</td>\n",
              "      <td>0</td>\n",
              "      <td>0</td>\n",
              "      <td>0</td>\n",
              "      <td>0</td>\n",
              "      <td>0</td>\n",
              "      <td>0</td>\n",
              "      <td>0</td>\n",
              "    </tr>\n",
              "    <tr>\n",
              "      <th>Ventura</th>\n",
              "      <td>0</td>\n",
              "      <td>0</td>\n",
              "      <td>0</td>\n",
              "      <td>0</td>\n",
              "      <td>0</td>\n",
              "      <td>0</td>\n",
              "      <td>0</td>\n",
              "      <td>0</td>\n",
              "      <td>0</td>\n",
              "    </tr>\n",
              "  </tbody>\n",
              "</table>\n",
              "</div>"
            ],
            "text/plain": [
              "                 2020-01-25  2020-01-26  ...  2020-02-01  2020-02-02\n",
              "Imperial                  0           0  ...           0           0\n",
              "Kern                      0           0  ...           0           0\n",
              "Los Angeles               0           1  ...           0           0\n",
              "Orange                    1           0  ...           0           0\n",
              "Riverside                 0           0  ...           0           0\n",
              "San Bernardino            0           0  ...           0           0\n",
              "San Diego                 0           0  ...           0           0\n",
              "San Luis Obispo           0           0  ...           0           0\n",
              "Santa Barbara             0           0  ...           0           0\n",
              "Ventura                   0           0  ...           0           0\n",
              "\n",
              "[10 rows x 9 columns]"
            ]
          },
          "metadata": {
            "tags": []
          },
          "execution_count": 14
        }
      ]
    },
    {
      "cell_type": "code",
      "metadata": {
        "id": "A8_rgl7bA5hv",
        "colab_type": "code",
        "colab": {}
      },
      "source": [
        "H = dict()\n",
        "S = dict()\n",
        "\n",
        "for row in range(10):               # looping through every county\n",
        "    for i in range(76):             # for every two days\n",
        "        for j in range(76):         # compute the |diff| in number of new cases\n",
        "            delta = abs(i-j)\n",
        "            if delta==0:\n",
        "                continue\n",
        "            H[delta] = H.get(delta,0) + 1    # count records (to compute average)\n",
        "            # add up total |diff|\n",
        "            S[delta] = S.get(delta,0) + abs(TimeSeries[row,i] - TimeSeries[row,j])"
      ],
      "execution_count": 0,
      "outputs": []
    },
    {
      "cell_type": "code",
      "metadata": {
        "id": "6Sh02DzzHFKi",
        "colab_type": "code",
        "colab": {
          "base_uri": "https://localhost:8080/",
          "height": 524
        },
        "outputId": "20a5658d-24bb-47f1-f34f-37e014219f8d"
      },
      "source": [
        "# plot the average |diff| against |delta t|\n",
        "plt.figure(figsize=(8,8))\n",
        "plt.plot(list(H.keys()), [int(S[delta])/int(H[delta]) for delta in H.keys()])\n",
        "plt.title(\"Intra-Region Temporal Correlation\", fontsize=20)\n",
        "plt.xlabel(\"$\\Delta$t\", fontsize=16)\n",
        "plt.ylabel(\"$\\Delta$new cases\", fontsize=16)\n",
        "plt.savefig(\"Intra_Region_Tempo.png\")\n",
        "plt.savefig(\"Intra_Region_Tempo.eps\")\n",
        "plt.show()"
      ],
      "execution_count": 20,
      "outputs": [
        {
          "output_type": "display_data",
          "data": {
            "image/png": "[encoded data removed]",
            "text/plain": [
              "<Figure size 576x576 with 1 Axes>"
            ]
          },
          "metadata": {
            "tags": [],
            "needs_background": "light"
          }
        }
      ]
    },
    {
      "cell_type": "markdown",
      "metadata": {
        "id": "fukiaOFMAf0j",
        "colab_type": "text"
      },
      "source": [
        "# To study intra-region temporal correlation, we show how $|n_t - n_{t+\\Delta t}|$ changes with $\\Delta t$ on average over all counties. From the figure above, we note that the differences in daily new cases are highly correlated with $\\Delta t$. Particularly, two consecutive days share similar numbers of new cases; while as $\\Delta t$ increases, the difference tends to grow.\n",
        "\n",
        "\n",
        "\n"
      ]
    }
  ]
}
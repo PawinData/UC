{
  "nbformat": 4,
  "nbformat_minor": 0,
  "metadata": {
    "colab": {
      "name": "Pre-processing.ipynb",
      "provenance": [],
      "collapsed_sections": [],
      "authorship_tag": "ABX9TyOkyTaAW0xo7bhphU/mmjrr",
      "include_colab_link": true
    },
    "kernelspec": {
      "name": "python3",
      "display_name": "Python 3"
    }
  },
  "cells": [
    {
      "cell_type": "markdown",
      "metadata": {
        "id": "view-in-github",
        "colab_type": "text"
      },
      "source": [
        "<a href=\"https://colab.research.google.com/github/PawinData/UC/blob/SFBA/Pre_processing.ipynb\" target=\"_parent\"><img src=\"https://colab.research.google.com/assets/colab-badge.svg\" alt=\"Open In Colab\"/></a>"
      ]
    },
    {
      "cell_type": "code",
      "metadata": {
        "id": "gTDueUP0cvzd",
        "colab_type": "code",
        "colab": {}
      },
      "source": [
        "import pandas as pd\n",
        "import numpy as np\n",
        "import re\n",
        "from pickle import dump, load\n",
        "from functions import str_to_day, day_to_str"
      ],
      "execution_count": 0,
      "outputs": []
    },
    {
      "cell_type": "markdown",
      "metadata": {
        "id": "FvWqfkN2fR8f",
        "colab_type": "text"
      },
      "source": [
        "This is to create a dictionary of date $\\rightarrow$ feature dataframe within a certain time window. Each feature dataframe, mapped from a date, has $M$ rows (features) and $N$ columns (counties).\n",
        "\n",
        "**FEATURES_raw.p**: date $\\rightarrow$ raw feature dataframe\n",
        "\n",
        "**FEATURES_normal.p**: date $\\rightarrow$ normalized feature dataframe\n",
        "\n",
        "Both are stored in pickle files."
      ]
    },
    {
      "cell_type": "code",
      "metadata": {
        "id": "N_XL7dlbdF82",
        "colab_type": "code",
        "colab": {}
      },
      "source": [
        "# set up time window of feature dataframes\n",
        "start = \"2020-02-01\"\n",
        "end = \"2020-05-02\"\n",
        "Time_Window = [day_to_str(day) for day in range(str_to_day(start), 1+str_to_day(end))]"
      ],
      "execution_count": 0,
      "outputs": []
    },
    {
      "cell_type": "code",
      "metadata": {
        "id": "o7IWlFGlhY4a",
        "colab_type": "code",
        "colab": {}
      },
      "source": [
        "# columns of a feature dataframe\n",
        "Counties = [\"Alameda\", \"Contra Costa\", \"Marin\", \"Napa\", \"San Francisco\", \n",
        "            \"San Mateo\", \"Santa Clara\", \"Solano\", \"Sonoma\"]\n",
        "Counties.sort()\n",
        "\n",
        "# a dictionary of date --> M-by-N feature dataframe\n",
        "FEATURES = dict()"
      ],
      "execution_count": 0,
      "outputs": []
    },
    {
      "cell_type": "markdown",
      "metadata": {
        "id": "Bnj1ZHdFfKzY",
        "colab_type": "text"
      },
      "source": [
        "# Meteorological Data"
      ]
    },
    {
      "cell_type": "code",
      "metadata": {
        "id": "HcIKAWNue2KX",
        "colab_type": "code",
        "colab": {}
      },
      "source": [
        "# load datasets\n",
        "TEMP = pd.read_csv(\"https://raw.githubusercontent.com/PawinData/UC/SFBA/Features/WeatherData/temperatureData2.csv\",\n",
        "                   index_col=0)\n",
        "TEMP = TEMP[Counties]\n",
        "\n",
        "WIND = pd.read_csv(\"https://raw.githubusercontent.com/PawinData/UC/SFBA/Features/WeatherData/windSpeedData2.csv\",\n",
        "                   index_col=0)\n",
        "WIND = WIND[Counties]\n",
        "\n",
        "HMD = pd.read_csv(\"https://raw.githubusercontent.com/PawinData/UC/SFBA/Features/WeatherData/humidityData2.csv\",\n",
        "                   index_col=0)\n",
        "HMD = HMD[Counties]"
      ],
      "execution_count": 0,
      "outputs": []
    },
    {
      "cell_type": "code",
      "metadata": {
        "id": "dIIMjED7mTwE",
        "colab_type": "code",
        "colab": {}
      },
      "source": [
        "# construct feature dataframe\n",
        "for date in Time_Window:\n",
        "    mtx = np.array([TEMP.loc[date,:].tolist(), \n",
        "                    WIND.loc[date,:].tolist(), \n",
        "                    HMD.loc[date,:].tolist()])\n",
        "    FEATURES[date] = pd.DataFrame(mtx, columns=Counties,\n",
        "                                  index=[\"temperature\", \"wind_speed\", \"humidity\"])"
      ],
      "execution_count": 0,
      "outputs": []
    },
    {
      "cell_type": "code",
      "metadata": {
        "id": "Ng6T1X04r6Gx",
        "colab_type": "code",
        "colab": {}
      },
      "source": [
        "# remove redundant datasets\n",
        "del TEMP, WIND, HMD"
      ],
      "execution_count": 0,
      "outputs": []
    },
    {
      "cell_type": "markdown",
      "metadata": {
        "id": "zKT9wclhh6Yn",
        "colab_type": "text"
      },
      "source": [
        "# Demographic Data"
      ]
    },
    {
      "cell_type": "code",
      "metadata": {
        "id": "ctBKDXVziDII",
        "colab_type": "code",
        "colab": {}
      },
      "source": [
        "# load datasets\n",
        "UME = pd.read_csv(\"https://raw.githubusercontent.com/PawinData/UC/SFBA/Features/UnemploymentRate.csv\",\n",
        "                  index_col=0)\n",
        "\n",
        "INCOME = pd.read_csv(\"https://raw.githubusercontent.com/PawinData/UC/SFBA/Features/randomData.csv\",\n",
        "                     index_col=0)\n",
        "INCOME.columns = [\"population\",\"density\",\"income_per_capita\",\"median_household_income\"]\n",
        "\n",
        "CRIME = pd.read_csv(\"https://raw.githubusercontent.com/PawinData/UC/SFBA/Features/CrimeData/crime.csv\",\n",
        "                    index_col=0)"
      ],
      "execution_count": 0,
      "outputs": []
    },
    {
      "cell_type": "code",
      "metadata": {
        "id": "AXgFLyV2xbOS",
        "colab_type": "code",
        "colab": {}
      },
      "source": [
        "# a function to extract month from a date\n",
        "def Month(date):\n",
        "    mm = re.findall('^2020-([0-9]+)-', date)\n",
        "    mm = int(mm[0])\n",
        "    if mm==1:\n",
        "        month = \"JAN\"\n",
        "    elif mm==2:\n",
        "        month = \"FEB\"\n",
        "    elif mm==3:\n",
        "        month = \"MAR\"\n",
        "    else:\n",
        "        month = \"APR\"\n",
        "    return month"
      ],
      "execution_count": 0,
      "outputs": []
    },
    {
      "cell_type": "code",
      "metadata": {
        "id": "aK0ZeCv0vLnf",
        "colab_type": "code",
        "colab": {}
      },
      "source": [
        "# add features to the dictionary\n",
        "for date in Time_Window:\n",
        "    month = Month(date)\n",
        "    mtx = np.array([UME[month].tolist(),\n",
        "                   CRIME[\"crime_rate_per_100000\"].tolist(),\n",
        "                   INCOME[\"income_per_capita\"].tolist()])\n",
        "    df = pd.DataFrame(mtx, columns=Counties,\n",
        "                      index=[\"unemployment_rate\",\"crime_rate\",\"income_per_capita\"])\n",
        "    FEATURES[date] = FEATURES[date].append(df)"
      ],
      "execution_count": 0,
      "outputs": []
    },
    {
      "cell_type": "code",
      "metadata": {
        "id": "0y8a4VVmwktr",
        "colab_type": "code",
        "colab": {}
      },
      "source": [
        "# remove redundant datesets\n",
        "del UME, INCOME, CRIME"
      ],
      "execution_count": 0,
      "outputs": []
    },
    {
      "cell_type": "markdown",
      "metadata": {
        "id": "fSgZtpytiEn9",
        "colab_type": "text"
      },
      "source": [
        "# Foursquare Data (Social Distancing)"
      ]
    },
    {
      "cell_type": "code",
      "metadata": {
        "id": "GuQ7EW46zV0g",
        "colab_type": "code",
        "outputId": "c36fba27-70e3-4b43-afae-170eacfaf8d2",
        "colab": {
          "base_uri": "https://localhost:8080/",
          "height": 202
        }
      },
      "source": [
        "# load dataset\n",
        "F = pd.read_csv(\"https://raw.githubusercontent.com/PawinData/UC/SFBA/Features/Foursquare/fourSquareData.csv\")\n",
        "F.head()"
      ],
      "execution_count": 12,
      "outputs": [
        {
          "output_type": "execute_result",
          "data": {
            "text/html": [
              "<div>\n",
              "<style scoped>\n",
              "    .dataframe tbody tr th:only-of-type {\n",
              "        vertical-align: middle;\n",
              "    }\n",
              "\n",
              "    .dataframe tbody tr th {\n",
              "        vertical-align: top;\n",
              "    }\n",
              "\n",
              "    .dataframe thead th {\n",
              "        text-align: right;\n",
              "    }\n",
              "</style>\n",
              "<table border=\"1\" class=\"dataframe\">\n",
              "  <thead>\n",
              "    <tr style=\"text-align: right;\">\n",
              "      <th></th>\n",
              "      <th>date</th>\n",
              "      <th>county</th>\n",
              "      <th>categoryname</th>\n",
              "      <th>visits</th>\n",
              "    </tr>\n",
              "  </thead>\n",
              "  <tbody>\n",
              "    <tr>\n",
              "      <th>0</th>\n",
              "      <td>2020-02-01</td>\n",
              "      <td>San Mateo</td>\n",
              "      <td>Clothing Stores</td>\n",
              "      <td>10414</td>\n",
              "    </tr>\n",
              "    <tr>\n",
              "      <th>1</th>\n",
              "      <td>2020-02-01</td>\n",
              "      <td>San Mateo</td>\n",
              "      <td>Medical Centers</td>\n",
              "      <td>10314</td>\n",
              "    </tr>\n",
              "    <tr>\n",
              "      <th>2</th>\n",
              "      <td>2020-02-01</td>\n",
              "      <td>San Mateo</td>\n",
              "      <td>Banks</td>\n",
              "      <td>14876</td>\n",
              "    </tr>\n",
              "    <tr>\n",
              "      <th>3</th>\n",
              "      <td>2020-02-01</td>\n",
              "      <td>San Mateo</td>\n",
              "      <td>Pharmacies</td>\n",
              "      <td>24837</td>\n",
              "    </tr>\n",
              "    <tr>\n",
              "      <th>4</th>\n",
              "      <td>2020-02-01</td>\n",
              "      <td>San Mateo</td>\n",
              "      <td>Salons / Barbershops</td>\n",
              "      <td>11699</td>\n",
              "    </tr>\n",
              "  </tbody>\n",
              "</table>\n",
              "</div>"
            ],
            "text/plain": [
              "         date     county          categoryname  visits\n",
              "0  2020-02-01  San Mateo       Clothing Stores   10414\n",
              "1  2020-02-01  San Mateo       Medical Centers   10314\n",
              "2  2020-02-01  San Mateo                 Banks   14876\n",
              "3  2020-02-01  San Mateo            Pharmacies   24837\n",
              "4  2020-02-01  San Mateo  Salons / Barbershops   11699"
            ]
          },
          "metadata": {
            "tags": []
          },
          "execution_count": 12
        }
      ]
    },
    {
      "cell_type": "code",
      "metadata": {
        "id": "vjbnEfAR2d05",
        "colab_type": "code",
        "outputId": "d3da87c7-f83d-4674-d674-3459ea0ce080",
        "colab": {
          "base_uri": "https://localhost:8080/",
          "height": 971
        }
      },
      "source": [
        "# print all categories of POIs\n",
        "POI = F.categoryname.tolist()\n",
        "POI.sort()\n",
        "POI = np.array(POI)\n",
        "POI = np.unique(POI)\n",
        "print(\"There are\",len(POI),\"categories of POIs.\")\n",
        "print(POI)"
      ],
      "execution_count": 13,
      "outputs": [
        {
          "output_type": "stream",
          "text": [
            "There are 206 categories of POIs.\n",
            "['Airport' 'Airport Gates' 'Airport Lounges' 'Airport Services'\n",
            " 'Airport Terminals' 'Airport Trams' 'Airports' 'Alcohol'\n",
            " 'American Restaurants' 'Art Galleries' 'Art Museums'\n",
            " 'Arts & Entertainment' 'Asian Restaurants' 'Auto Dealerships'\n",
            " 'Automotive Shops' 'BBQ Joints' 'Bagel Shops' 'Bakeries' 'Banks' 'Bars'\n",
            " 'Baseball Fields' 'Baseball Stadiums' 'Basketball Stadiums' 'Beach'\n",
            " 'Beaches' 'Beer Gardens' 'Big Box Stores' 'Boats or Ferries' 'Bookstores'\n",
            " 'Breakfast Spots' 'Breweries' 'Bridges' 'Bubble Tea Shops' 'Buildings'\n",
            " 'Burger Joints' 'Bus' 'Bus Lines' 'Bus Stations' 'Bus Stops'\n",
            " 'Business Centers' 'Cafés' 'Car Washes' 'Casinos' 'Chinese Restaurants'\n",
            " 'Chocolate Shops' 'Churches' 'Clothing Stores' 'Cocktail Bars'\n",
            " 'Coffee Shops' 'College Academic Buildings' 'College Cafeterias'\n",
            " 'College Engineering Buildings' 'College Libraries'\n",
            " 'Colleges & Universities' 'Community Colleges' 'Convenience Store'\n",
            " 'Convenience Stores' 'Convention Centers' 'Corporate Cafeterias'\n",
            " 'Cosmetics Shops' 'Coworking Spaces' 'Delis / Bodegas'\n",
            " \"Dentist's Offices\" 'Department Stores' 'Dessert Shops'\n",
            " 'Dim Sum Restaurants' 'Diners' 'Discount Stores' 'Dive Bars'\n",
            " \"Doctor's Offices\" 'Dog Runs' 'Donut Shops' 'Drug Store'\n",
            " 'EV Charging Stations' 'Electronics Stores' 'Elementary Schools'\n",
            " 'Event Spaces' 'Factories' 'Farmers Markets' 'Farms'\n",
            " 'Fast Food Restaurants' 'Fitness Center' 'Flea Markets' 'Food'\n",
            " 'Food Courts' 'Food Trucks' 'French Restaurants' 'Fried Chicken Joints'\n",
            " 'Furniture / Home Stores' 'Gardens' 'Gas Stations' 'Gastropubs'\n",
            " 'Gay Bars' 'General Entertainment' 'Gift Shops' 'Golf Courses'\n",
            " 'Government' 'Government Buildings' 'Grocery' 'Grocery Stores' 'Gyms'\n",
            " 'Gyms or Fitness Centers' 'Harbors / Marinas' 'Hardware Stores'\n",
            " 'High Schools' 'Historic Sites' 'Hockey Arenas' 'Hospitals' 'Hotel'\n",
            " 'Hotel Bars' 'Hotels' 'Housing Developments' 'Ice Cream Shops'\n",
            " 'Indian Restaurants' 'Intersections' 'Italian Restaurants'\n",
            " 'Japanese Restaurants' 'Juice Bars' 'Korean Restaurants' 'Lakes'\n",
            " 'Laundry Services' 'Libraries' 'Light Rail Stations' 'Liquor Stores'\n",
            " 'Lounges' 'Markets' 'Medical' 'Medical Centers' 'Medical Schools'\n",
            " 'Mediterranean Restaurants' 'Meeting Rooms' 'Metro Stations'\n",
            " 'Mexican Restaurants' 'Middle Schools' 'Military Bases'\n",
            " 'Miscellaneous Shops' 'Monuments / Landmarks' 'Movie Theaters'\n",
            " 'Music Venues' 'Nail Salons' 'National Parks' 'Nature Preserves'\n",
            " 'New American Restaurants' 'Nightclubs' 'Nightlife Spots' 'Office'\n",
            " 'Offices' 'Other Great Outdoors' 'Outdoor Sculptures'\n",
            " 'Outdoors & Recreation' 'Outlet Malls' 'Parking' 'Parks' 'Pet Stores'\n",
            " 'Pharmacies' 'Piers' 'Pizza Places' 'Playgrounds' 'Plazas' 'Pools'\n",
            " 'Post Offices' 'Professional & Other Places' 'Pubs' 'Ramen Restaurants'\n",
            " 'Rental Car Locations' 'Residences'\n",
            " 'Residential Buildings (Apartments / Condos)' 'Restaurants'\n",
            " 'Salad Places' 'Salons / Barbershops' 'Sandwich Places' 'Scenic Lookouts'\n",
            " 'School' 'Schools' 'Seafood Restaurants' 'Shipping Stores'\n",
            " 'Shopping Malls' 'Shopping Plazas' 'Shops & Services' 'Spas'\n",
            " 'Spiritual Center' 'Sporting Goods Shops' 'Sports' 'Sports Bars'\n",
            " 'State / Provincial Parks' 'Storage Facilities' 'Student Centers'\n",
            " 'Supermarkets' 'Sushi Restaurants' 'Tech Startups' 'Thai Restaurants'\n",
            " 'Theaters' 'Thrift / Vintage Stores' 'Toll Plazas' 'Trails'\n",
            " 'Train Stations' 'Travel & Transport' 'Universities'\n",
            " 'Vietnamese Restaurants' 'Vineyards' 'Warehouse Stores' 'Wine Bars'\n",
            " 'Wineries' \"Women's Stores\" 'Yoga Studios' 'Zoo Exhibits']\n"
          ],
          "name": "stdout"
        }
      ]
    },
    {
      "cell_type": "markdown",
      "metadata": {
        "id": "jjCpkyxYn5_Z",
        "colab_type": "text"
      },
      "source": [
        "## Classify POIs into 4 types"
      ]
    },
    {
      "cell_type": "code",
      "metadata": {
        "id": "nIy_BGlLS0cG",
        "colab_type": "code",
        "colab": {}
      },
      "source": [
        "# judge if a string contains any substring in a list\n",
        "def kw_classifier(st, lst):\n",
        "    judge = False\n",
        "    for element in lst:\n",
        "        if element in st:\n",
        "            judge = True\n",
        "            break\n",
        "    return judge"
      ],
      "execution_count": 0,
      "outputs": []
    },
    {
      "cell_type": "code",
      "metadata": {
        "id": "KD1Wy8rz9r6a",
        "colab_type": "code",
        "outputId": "83e2b93d-5f0a-4504-ddbd-130f56573751",
        "colab": {
          "base_uri": "https://localhost:8080/",
          "height": 260
        }
      },
      "source": [
        "# Rough classifier by keywords\n",
        "Commercial = list()\n",
        "Edu_Med = list()\n",
        "Transport = list()\n",
        "Recreational = list()\n",
        "\n",
        "keywords = {\"Edu_Med\":[\"school\",\"college\",\"universit\",\"librar\",\"med\",\"doctor\",\n",
        "                       \"dentist\",\"hospital\",\"government\",\"student\"],\n",
        "            \"Commercial\":[\"store\",\"mall\",\"shop\",\"restaurant\",\"grocery\",\"bar\",\"plaza\",\n",
        "                          \"café\",\"deli\",\"dealer\",\"night\",\"bbq\",\"baker\",\"beer\",\"breakfast\",\n",
        "                          \"dine\",\"market\",\"food\",\"pharma\",\"place\",\"pub\",\"lounge\",\"joint\",\n",
        "                          \"office\",\"theater\"],\n",
        "            \"Transport\":[\"airport\",\"station\",\"bus\",\"boat\",\"pier\",\"hotel\",\"marina\",\"travel\"],\n",
        "            \"Recreational\":[\"art\",\"beach\",\"field\",\"stadium\",\"gym\",\"zoo\",\"dog\",\"fitness\",\n",
        "                            \"entertainment\",\"arena\",\"outdoor\",\"play\",\"golf\", \"landmark\"]}\n",
        "\n",
        "poi = POI.tolist()\n",
        "for element in POI.tolist():\n",
        "    ele = element.lower().strip()\n",
        "    if kw_classifier(ele, keywords[\"Edu_Med\"]):\n",
        "        Edu_Med.append(element)\n",
        "        poi.remove(element)\n",
        "    elif kw_classifier(ele, keywords[\"Transport\"]):\n",
        "        Transport.append(element)\n",
        "        poi.remove(element)\n",
        "    elif kw_classifier(ele, keywords[\"Commercial\"]):\n",
        "        Commercial.append(element)\n",
        "        poi.remove(element)\n",
        "    elif kw_classifier(ele, keywords[\"Recreational\"]):\n",
        "        Recreational.append(element)\n",
        "        poi.remove(element)\n",
        "\n",
        "print(\"Edu&Med:\",len(Edu_Med))\n",
        "print(\"Commercial:\",len(Commercial))\n",
        "print(\"Transport:\",len(Transport))\n",
        "print(\"Recreational:\",len(Recreational))\n",
        "print(\"There are\",len(poi),\"keywords left:\")\n",
        "print(np.array(poi))"
      ],
      "execution_count": 15,
      "outputs": [
        {
          "output_type": "stream",
          "text": [
            "Edu&Med: 23\n",
            "Commercial: 95\n",
            "Transport: 24\n",
            "Recreational: 23\n",
            "There are 41 keywords left:\n",
            "['Alcohol' 'Banks' 'Breweries' 'Bridges' 'Buildings' 'Car Washes'\n",
            " 'Casinos' 'Churches' 'Convention Centers' 'Corporate Cafeterias'\n",
            " 'Coworking Spaces' 'Event Spaces' 'Factories' 'Farms' 'Gardens'\n",
            " 'Historic Sites' 'Housing Developments' 'Intersections' 'Lakes'\n",
            " 'Laundry Services' 'Meeting Rooms' 'Military Bases' 'Music Venues'\n",
            " 'Nail Salons' 'National Parks' 'Nature Preserves' 'Parking' 'Parks'\n",
            " 'Pools' 'Rental Car Locations' 'Residences' 'Scenic Lookouts' 'Spas'\n",
            " 'Spiritual Center' 'Sports' 'State / Provincial Parks'\n",
            " 'Storage Facilities' 'Trails' 'Vineyards' 'Wineries' 'Yoga Studios']\n"
          ],
          "name": "stdout"
        }
      ]
    },
    {
      "cell_type": "code",
      "metadata": {
        "id": "XIE5-CAd7t4E",
        "colab_type": "code",
        "outputId": "57ba0071-41be-4f1b-aa6d-168015dcb7b3",
        "colab": {
          "base_uri": "https://localhost:8080/",
          "height": 159
        }
      },
      "source": [
        "# Prune classifier manually\n",
        "Commercial.extend([\"Alcohol\",\"Banks\",\"Car Washes\",\"Casinos\",\"Corporate Cafeterias\",\n",
        "                  \"Coworking Spaces\", \"Event Spaces\", \"Laundry Services\",\n",
        "                  \"Music Venues\", \"Nail Salons\", \"Retal Car Locations\", \"Spas\",\n",
        "                  \"Meeting Rooms\"])\n",
        "Recreational.extend([\"Gardens\",\"Historic Sites\",\"Lakes\",\"Pools\",\"Sports\",\n",
        "                    \"Yoga Studios\"])\n",
        "Transport.append(\"Intersections\")\n",
        "\n",
        "print(\"Edu_Med:\", Edu_Med)\n",
        "print(\"\")\n",
        "print(\"Commercial:\", Commercial)\n",
        "print(\"\")\n",
        "print(\"Transport:\", Transport)\n",
        "print(\"\")\n",
        "print(\"Recreational:\", Recreational)"
      ],
      "execution_count": 16,
      "outputs": [
        {
          "output_type": "stream",
          "text": [
            "Edu_Med: ['College Academic Buildings', 'College Cafeterias', 'College Engineering Buildings', 'College Libraries', 'Colleges & Universities', 'Community Colleges', \"Dentist's Offices\", \"Doctor's Offices\", 'Elementary Schools', 'Government', 'Government Buildings', 'High Schools', 'Hospitals', 'Libraries', 'Medical', 'Medical Centers', 'Medical Schools', 'Mediterranean Restaurants', 'Middle Schools', 'School', 'Schools', 'Student Centers', 'Universities']\n",
            "\n",
            "Commercial: ['American Restaurants', 'Asian Restaurants', 'Auto Dealerships', 'Automotive Shops', 'BBQ Joints', 'Bagel Shops', 'Bakeries', 'Bars', 'Beer Gardens', 'Big Box Stores', 'Bookstores', 'Breakfast Spots', 'Bubble Tea Shops', 'Burger Joints', 'Cafés', 'Chinese Restaurants', 'Chocolate Shops', 'Clothing Stores', 'Cocktail Bars', 'Coffee Shops', 'Convenience Store', 'Convenience Stores', 'Cosmetics Shops', 'Delis / Bodegas', 'Department Stores', 'Dessert Shops', 'Dim Sum Restaurants', 'Diners', 'Discount Stores', 'Dive Bars', 'Donut Shops', 'Drug Store', 'Electronics Stores', 'Farmers Markets', 'Fast Food Restaurants', 'Flea Markets', 'Food', 'Food Courts', 'Food Trucks', 'French Restaurants', 'Fried Chicken Joints', 'Furniture / Home Stores', 'Gastropubs', 'Gay Bars', 'Gift Shops', 'Grocery', 'Grocery Stores', 'Hardware Stores', 'Ice Cream Shops', 'Indian Restaurants', 'Italian Restaurants', 'Japanese Restaurants', 'Juice Bars', 'Korean Restaurants', 'Liquor Stores', 'Lounges', 'Markets', 'Mexican Restaurants', 'Miscellaneous Shops', 'Movie Theaters', 'New American Restaurants', 'Nightclubs', 'Nightlife Spots', 'Office', 'Offices', 'Outlet Malls', 'Pet Stores', 'Pharmacies', 'Pizza Places', 'Plazas', 'Post Offices', 'Professional & Other Places', 'Pubs', 'Ramen Restaurants', 'Restaurants', 'Salad Places', 'Salons / Barbershops', 'Sandwich Places', 'Seafood Restaurants', 'Shipping Stores', 'Shopping Malls', 'Shopping Plazas', 'Shops & Services', 'Sporting Goods Shops', 'Sports Bars', 'Supermarkets', 'Sushi Restaurants', 'Thai Restaurants', 'Theaters', 'Thrift / Vintage Stores', 'Toll Plazas', 'Vietnamese Restaurants', 'Warehouse Stores', 'Wine Bars', \"Women's Stores\", 'Alcohol', 'Banks', 'Car Washes', 'Casinos', 'Corporate Cafeterias', 'Coworking Spaces', 'Event Spaces', 'Laundry Services', 'Music Venues', 'Nail Salons', 'Retal Car Locations', 'Spas', 'Meeting Rooms']\n",
            "\n",
            "Transport: ['Airport', 'Airport Gates', 'Airport Lounges', 'Airport Services', 'Airport Terminals', 'Airport Trams', 'Airports', 'Boats or Ferries', 'Bus', 'Bus Lines', 'Bus Stations', 'Bus Stops', 'Business Centers', 'EV Charging Stations', 'Gas Stations', 'Harbors / Marinas', 'Hotel', 'Hotel Bars', 'Hotels', 'Light Rail Stations', 'Metro Stations', 'Piers', 'Train Stations', 'Travel & Transport', 'Intersections']\n",
            "\n",
            "Recreational: ['Art Galleries', 'Art Museums', 'Arts & Entertainment', 'Baseball Fields', 'Baseball Stadiums', 'Basketball Stadiums', 'Beach', 'Beaches', 'Dog Runs', 'Fitness Center', 'General Entertainment', 'Golf Courses', 'Gyms', 'Gyms or Fitness Centers', 'Hockey Arenas', 'Monuments / Landmarks', 'Other Great Outdoors', 'Outdoor Sculptures', 'Outdoors & Recreation', 'Playgrounds', 'Residential Buildings (Apartments / Condos)', 'Tech Startups', 'Zoo Exhibits', 'Gardens', 'Historic Sites', 'Lakes', 'Pools', 'Sports', 'Yoga Studios']\n"
          ],
          "name": "stdout"
        }
      ]
    },
    {
      "cell_type": "markdown",
      "metadata": {
        "id": "9tH1b53KsH7a",
        "colab_type": "text"
      },
      "source": [
        "## Create feature dataframes"
      ]
    },
    {
      "cell_type": "code",
      "metadata": {
        "id": "-O8f70CisUCd",
        "colab_type": "code",
        "colab": {}
      },
      "source": [
        "edu_med = 0\n",
        "commercial = 0\n",
        "transport = 0\n",
        "recreational = 0\n",
        "d = dict()\n",
        "INFO = pd.read_csv(\"https://raw.githubusercontent.com/PawinData/UC/SFBA/INFO.csv\")\n",
        "\n",
        "for date in Time_Window:\n",
        "    DATA = F.loc[F[\"date\"]==date]\n",
        "    for cnty in Counties:  # count the number of visits for each type of POI in each county\n",
        "        population = float(INFO[cnty][0])\n",
        "        data = DATA.loc[DATA[\"county\"]==cnty]\n",
        "        B = data[[\"categoryname\",\"visits\"]].to_numpy()\n",
        "        for POI,num in B:\n",
        "            if POI in Edu_Med: edu_med += num/population \n",
        "            if POI in Commercial: commercial += num/population \n",
        "            if POI in Transport: transport += num/population\n",
        "            if POI in Recreational: recreational += num/population \n",
        "        d[cnty] = [edu_med, commercial, transport, recreational]\n",
        "    d = pd.DataFrame(d, index=[\"Edu&Med\",\"Commercial\",\"Transport\",\"Recreational\"])\n",
        "    FEATURES[date] = FEATURES[date].append(d)"
      ],
      "execution_count": 0,
      "outputs": []
    },
    {
      "cell_type": "code",
      "metadata": {
        "id": "_21k5hMUsy6c",
        "colab_type": "code",
        "colab": {}
      },
      "source": [
        "del F   # remove redundant objects"
      ],
      "execution_count": 0,
      "outputs": []
    },
    {
      "cell_type": "markdown",
      "metadata": {
        "id": "LM26qW6qumIQ",
        "colab_type": "text"
      },
      "source": [
        "# Normalization"
      ]
    },
    {
      "cell_type": "code",
      "metadata": {
        "id": "ks0Qzd8LuFG4",
        "colab_type": "code",
        "outputId": "f0c9f804-c198-4a5d-df86-24cffcabbd3d",
        "colab": {
          "base_uri": "https://localhost:8080/",
          "height": 355
        }
      },
      "source": [
        "# store the feature dataframes\n",
        "dump(FEATURES, open(\"FEATURES_raw.p\",\"wb\"))\n",
        "\n",
        "FEATURES[start]     # print out the feature dataframe for the first day"
      ],
      "execution_count": 24,
      "outputs": [
        {
          "output_type": "execute_result",
          "data": {
            "text/html": [
              "<div>\n",
              "<style scoped>\n",
              "    .dataframe tbody tr th:only-of-type {\n",
              "        vertical-align: middle;\n",
              "    }\n",
              "\n",
              "    .dataframe tbody tr th {\n",
              "        vertical-align: top;\n",
              "    }\n",
              "\n",
              "    .dataframe thead th {\n",
              "        text-align: right;\n",
              "    }\n",
              "</style>\n",
              "<table border=\"1\" class=\"dataframe\">\n",
              "  <thead>\n",
              "    <tr style=\"text-align: right;\">\n",
              "      <th></th>\n",
              "      <th>Alameda</th>\n",
              "      <th>Contra Costa</th>\n",
              "      <th>Marin</th>\n",
              "      <th>Napa</th>\n",
              "      <th>San Francisco</th>\n",
              "      <th>San Mateo</th>\n",
              "      <th>Santa Clara</th>\n",
              "      <th>Solano</th>\n",
              "      <th>Sonoma</th>\n",
              "    </tr>\n",
              "  </thead>\n",
              "  <tbody>\n",
              "    <tr>\n",
              "      <th>temperature</th>\n",
              "      <td>282.625000</td>\n",
              "      <td>282.625000</td>\n",
              "      <td>285.925000</td>\n",
              "      <td>282.625000</td>\n",
              "      <td>285.925000</td>\n",
              "      <td>285.950000</td>\n",
              "      <td>285.950000</td>\n",
              "      <td>282.625000</td>\n",
              "      <td>285.925000</td>\n",
              "    </tr>\n",
              "    <tr>\n",
              "      <th>wind_speed</th>\n",
              "      <td>-1.037500</td>\n",
              "      <td>-0.501667</td>\n",
              "      <td>1.419583</td>\n",
              "      <td>0.147500</td>\n",
              "      <td>0.344583</td>\n",
              "      <td>-0.304167</td>\n",
              "      <td>-1.443333</td>\n",
              "      <td>-1.135000</td>\n",
              "      <td>0.570833</td>\n",
              "    </tr>\n",
              "    <tr>\n",
              "      <th>humidity</th>\n",
              "      <td>0.006500</td>\n",
              "      <td>0.006417</td>\n",
              "      <td>0.007000</td>\n",
              "      <td>0.006292</td>\n",
              "      <td>0.007542</td>\n",
              "      <td>0.006625</td>\n",
              "      <td>0.005917</td>\n",
              "      <td>0.006667</td>\n",
              "      <td>0.007208</td>\n",
              "    </tr>\n",
              "    <tr>\n",
              "      <th>unemployment_rate</th>\n",
              "      <td>3.000000</td>\n",
              "      <td>3.100000</td>\n",
              "      <td>2.300000</td>\n",
              "      <td>3.200000</td>\n",
              "      <td>2.300000</td>\n",
              "      <td>2.100000</td>\n",
              "      <td>2.600000</td>\n",
              "      <td>3.900000</td>\n",
              "      <td>2.800000</td>\n",
              "    </tr>\n",
              "    <tr>\n",
              "      <th>crime_rate</th>\n",
              "      <td>753.693574</td>\n",
              "      <td>400.656184</td>\n",
              "      <td>189.654171</td>\n",
              "      <td>345.623762</td>\n",
              "      <td>265.407690</td>\n",
              "      <td>701.421710</td>\n",
              "      <td>235.357713</td>\n",
              "      <td>434.569715</td>\n",
              "      <td>362.001919</td>\n",
              "    </tr>\n",
              "    <tr>\n",
              "      <th>income_per_capita</th>\n",
              "      <td>36439.000000</td>\n",
              "      <td>38770.000000</td>\n",
              "      <td>58004.000000</td>\n",
              "      <td>35092.000000</td>\n",
              "      <td>49986.000000</td>\n",
              "      <td>47198.000000</td>\n",
              "      <td>42666.000000</td>\n",
              "      <td>29132.000000</td>\n",
              "      <td>33361.000000</td>\n",
              "    </tr>\n",
              "    <tr>\n",
              "      <th>Edu&amp;Med</th>\n",
              "      <td>0.191683</td>\n",
              "      <td>0.336885</td>\n",
              "      <td>0.406838</td>\n",
              "      <td>0.406838</td>\n",
              "      <td>0.616507</td>\n",
              "      <td>0.818477</td>\n",
              "      <td>1.108201</td>\n",
              "      <td>1.191686</td>\n",
              "      <td>1.268875</td>\n",
              "    </tr>\n",
              "    <tr>\n",
              "      <th>Commercial</th>\n",
              "      <td>1.982391</td>\n",
              "      <td>3.613078</td>\n",
              "      <td>5.070395</td>\n",
              "      <td>6.725102</td>\n",
              "      <td>10.121405</td>\n",
              "      <td>12.792151</td>\n",
              "      <td>15.143852</td>\n",
              "      <td>16.891549</td>\n",
              "      <td>18.719567</td>\n",
              "    </tr>\n",
              "    <tr>\n",
              "      <th>Transport</th>\n",
              "      <td>0.299779</td>\n",
              "      <td>0.449519</td>\n",
              "      <td>0.574205</td>\n",
              "      <td>1.004058</td>\n",
              "      <td>1.648220</td>\n",
              "      <td>2.981769</td>\n",
              "      <td>3.282889</td>\n",
              "      <td>3.511568</td>\n",
              "      <td>3.679350</td>\n",
              "    </tr>\n",
              "    <tr>\n",
              "      <th>Recreational</th>\n",
              "      <td>0.322960</td>\n",
              "      <td>0.602732</td>\n",
              "      <td>1.073294</td>\n",
              "      <td>1.314736</td>\n",
              "      <td>2.286704</td>\n",
              "      <td>2.749655</td>\n",
              "      <td>3.121593</td>\n",
              "      <td>3.352854</td>\n",
              "      <td>3.614825</td>\n",
              "    </tr>\n",
              "  </tbody>\n",
              "</table>\n",
              "</div>"
            ],
            "text/plain": [
              "                        Alameda  Contra Costa  ...        Solano        Sonoma\n",
              "temperature          282.625000    282.625000  ...    282.625000    285.925000\n",
              "wind_speed            -1.037500     -0.501667  ...     -1.135000      0.570833\n",
              "humidity               0.006500      0.006417  ...      0.006667      0.007208\n",
              "unemployment_rate      3.000000      3.100000  ...      3.900000      2.800000\n",
              "crime_rate           753.693574    400.656184  ...    434.569715    362.001919\n",
              "income_per_capita  36439.000000  38770.000000  ...  29132.000000  33361.000000\n",
              "Edu&Med                0.191683      0.336885  ...      1.191686      1.268875\n",
              "Commercial             1.982391      3.613078  ...     16.891549     18.719567\n",
              "Transport              0.299779      0.449519  ...      3.511568      3.679350\n",
              "Recreational           0.322960      0.602732  ...      3.352854      3.614825\n",
              "\n",
              "[10 rows x 9 columns]"
            ]
          },
          "metadata": {
            "tags": []
          },
          "execution_count": 24
        }
      ]
    },
    {
      "cell_type": "code",
      "metadata": {
        "id": "Ych-be_GvDE2",
        "colab_type": "code",
        "colab": {}
      },
      "source": [
        "FEATURES = load(open(\"FEATURES_raw.p\",\"rb\"))\n",
        "\n",
        "for date in Time_Window:\n",
        "    features = FEATURES[date].to_numpy()\n",
        "    IND = FEATURES[date].index\n",
        "    rows,cols = features.shape\n",
        "    for i in range(rows):   # normalize each row of a feature dataframe\n",
        "        Row = features[i,:]\n",
        "        if not np.std(Row)==0:\n",
        "            Row = (Row - np.mean(Row)) / np.std(Row)\n",
        "        features[i,:] = Row\n",
        "    FEATURES[date] = pd.DataFrame(features, columns=Counties, index=IND)"
      ],
      "execution_count": 0,
      "outputs": []
    },
    {
      "cell_type": "code",
      "metadata": {
        "id": "GHr_e_n8yf1j",
        "colab_type": "code",
        "outputId": "fb92d9af-2a8c-436e-8748-9cd08aa2e407",
        "colab": {
          "base_uri": "https://localhost:8080/",
          "height": 355
        }
      },
      "source": [
        "FEATURES[start]  # print out the normalized feature dataframe for the first day"
      ],
      "execution_count": 26,
      "outputs": [
        {
          "output_type": "execute_result",
          "data": {
            "text/html": [
              "<div>\n",
              "<style scoped>\n",
              "    .dataframe tbody tr th:only-of-type {\n",
              "        vertical-align: middle;\n",
              "    }\n",
              "\n",
              "    .dataframe tbody tr th {\n",
              "        vertical-align: top;\n",
              "    }\n",
              "\n",
              "    .dataframe thead th {\n",
              "        text-align: right;\n",
              "    }\n",
              "</style>\n",
              "<table border=\"1\" class=\"dataframe\">\n",
              "  <thead>\n",
              "    <tr style=\"text-align: right;\">\n",
              "      <th></th>\n",
              "      <th>Alameda</th>\n",
              "      <th>Contra Costa</th>\n",
              "      <th>Marin</th>\n",
              "      <th>Napa</th>\n",
              "      <th>San Francisco</th>\n",
              "      <th>San Mateo</th>\n",
              "      <th>Santa Clara</th>\n",
              "      <th>Solano</th>\n",
              "      <th>Sonoma</th>\n",
              "    </tr>\n",
              "  </thead>\n",
              "  <tbody>\n",
              "    <tr>\n",
              "      <th>temperature</th>\n",
              "      <td>-1.118017</td>\n",
              "      <td>-1.118017</td>\n",
              "      <td>0.888334</td>\n",
              "      <td>-1.118017</td>\n",
              "      <td>0.888334</td>\n",
              "      <td>0.903533</td>\n",
              "      <td>0.903533</td>\n",
              "      <td>-1.118017</td>\n",
              "      <td>0.888334</td>\n",
              "    </tr>\n",
              "    <tr>\n",
              "      <th>wind_speed</th>\n",
              "      <td>-0.941856</td>\n",
              "      <td>-0.327920</td>\n",
              "      <td>1.873368</td>\n",
              "      <td>0.415868</td>\n",
              "      <td>0.641678</td>\n",
              "      <td>-0.101633</td>\n",
              "      <td>-1.406843</td>\n",
              "      <td>-1.053567</td>\n",
              "      <td>0.900906</td>\n",
              "    </tr>\n",
              "    <tr>\n",
              "      <th>humidity</th>\n",
              "      <td>-0.396604</td>\n",
              "      <td>-0.575075</td>\n",
              "      <td>0.674226</td>\n",
              "      <td>-0.842783</td>\n",
              "      <td>1.834292</td>\n",
              "      <td>-0.128896</td>\n",
              "      <td>-1.645906</td>\n",
              "      <td>-0.039660</td>\n",
              "      <td>1.120406</td>\n",
              "    </tr>\n",
              "    <tr>\n",
              "      <th>unemployment_rate</th>\n",
              "      <td>0.356339</td>\n",
              "      <td>0.544988</td>\n",
              "      <td>-0.964210</td>\n",
              "      <td>0.733638</td>\n",
              "      <td>-0.964210</td>\n",
              "      <td>-1.341510</td>\n",
              "      <td>-0.398261</td>\n",
              "      <td>2.054187</td>\n",
              "      <td>-0.020961</td>\n",
              "    </tr>\n",
              "    <tr>\n",
              "      <th>crime_rate</th>\n",
              "      <td>1.852394</td>\n",
              "      <td>-0.049368</td>\n",
              "      <td>-1.186006</td>\n",
              "      <td>-0.345820</td>\n",
              "      <td>-0.777932</td>\n",
              "      <td>1.570813</td>\n",
              "      <td>-0.939807</td>\n",
              "      <td>0.133319</td>\n",
              "      <td>-0.257593</td>\n",
              "    </tr>\n",
              "    <tr>\n",
              "      <th>income_per_capita</th>\n",
              "      <td>-0.549574</td>\n",
              "      <td>-0.279543</td>\n",
              "      <td>1.948588</td>\n",
              "      <td>-0.705615</td>\n",
              "      <td>1.019756</td>\n",
              "      <td>0.696785</td>\n",
              "      <td>0.171783</td>\n",
              "      <td>-1.396041</td>\n",
              "      <td>-0.906139</td>\n",
              "    </tr>\n",
              "    <tr>\n",
              "      <th>Edu&amp;Med</th>\n",
              "      <td>-1.343240</td>\n",
              "      <td>-0.963360</td>\n",
              "      <td>-0.780345</td>\n",
              "      <td>-0.780345</td>\n",
              "      <td>-0.231805</td>\n",
              "      <td>0.296594</td>\n",
              "      <td>1.054576</td>\n",
              "      <td>1.272991</td>\n",
              "      <td>1.474934</td>\n",
              "    </tr>\n",
              "    <tr>\n",
              "      <th>Commercial</th>\n",
              "      <td>-1.414346</td>\n",
              "      <td>-1.130847</td>\n",
              "      <td>-0.877489</td>\n",
              "      <td>-0.589815</td>\n",
              "      <td>0.000640</td>\n",
              "      <td>0.464956</td>\n",
              "      <td>0.873804</td>\n",
              "      <td>1.177646</td>\n",
              "      <td>1.495451</td>\n",
              "    </tr>\n",
              "    <tr>\n",
              "      <th>Transport</th>\n",
              "      <td>-1.223121</td>\n",
              "      <td>-1.111243</td>\n",
              "      <td>-1.018083</td>\n",
              "      <td>-0.696916</td>\n",
              "      <td>-0.215627</td>\n",
              "      <td>0.780740</td>\n",
              "      <td>1.005724</td>\n",
              "      <td>1.176583</td>\n",
              "      <td>1.301942</td>\n",
              "    </tr>\n",
              "    <tr>\n",
              "      <th>Recreational</th>\n",
              "      <td>-1.469634</td>\n",
              "      <td>-1.231397</td>\n",
              "      <td>-0.830696</td>\n",
              "      <td>-0.625098</td>\n",
              "      <td>0.202570</td>\n",
              "      <td>0.596791</td>\n",
              "      <td>0.913511</td>\n",
              "      <td>1.110438</td>\n",
              "      <td>1.333516</td>\n",
              "    </tr>\n",
              "  </tbody>\n",
              "</table>\n",
              "</div>"
            ],
            "text/plain": [
              "                    Alameda  Contra Costa  ...    Solano    Sonoma\n",
              "temperature       -1.118017     -1.118017  ... -1.118017  0.888334\n",
              "wind_speed        -0.941856     -0.327920  ... -1.053567  0.900906\n",
              "humidity          -0.396604     -0.575075  ... -0.039660  1.120406\n",
              "unemployment_rate  0.356339      0.544988  ...  2.054187 -0.020961\n",
              "crime_rate         1.852394     -0.049368  ...  0.133319 -0.257593\n",
              "income_per_capita -0.549574     -0.279543  ... -1.396041 -0.906139\n",
              "Edu&Med           -1.343240     -0.963360  ...  1.272991  1.474934\n",
              "Commercial        -1.414346     -1.130847  ...  1.177646  1.495451\n",
              "Transport         -1.223121     -1.111243  ...  1.176583  1.301942\n",
              "Recreational      -1.469634     -1.231397  ...  1.110438  1.333516\n",
              "\n",
              "[10 rows x 9 columns]"
            ]
          },
          "metadata": {
            "tags": []
          },
          "execution_count": 26
        }
      ]
    },
    {
      "cell_type": "code",
      "metadata": {
        "id": "GnQT3z2e15tI",
        "colab_type": "code",
        "colab": {}
      },
      "source": [
        "# store the dictionary of normalized feature dataframes\n",
        "dump(FEATURES, open(\"FEATURES_normal.p\",\"wb\"))"
      ],
      "execution_count": 0,
      "outputs": []
    },
    {
      "cell_type": "code",
      "metadata": {
        "id": "rKf1TJhC0VAh",
        "colab_type": "code",
        "colab": {}
      },
      "source": [
        ""
      ],
      "execution_count": 0,
      "outputs": []
    }
  ]
}

{
  "nbformat": 4,
  "nbformat_minor": 0,
  "metadata": {
    "colab": {
      "name": "DataPrep.ipynb",
      "provenance": [],
      "authorship_tag": "ABX9TyPliwN/bP9jUcZ38w2uOuk1",
      "include_colab_link": true
    },
    "kernelspec": {
      "name": "python3",
      "display_name": "Python 3"
    }
  },
  "cells": [
    {
      "cell_type": "markdown",
      "metadata": {
        "id": "view-in-github",
        "colab_type": "text"
      },
      "source": [
        "<a href=\"https://colab.research.google.com/github/PawinData/UC/blob/master/DataPrep.ipynb\" target=\"_parent\"><img src=\"https://colab.research.google.com/assets/colab-badge.svg\" alt=\"Open In Colab\"/></a>"
      ]
    },
    {
      "cell_type": "code",
      "metadata": {
        "id": "wOuN6wDwaUl3",
        "colab_type": "code",
        "colab": {}
      },
      "source": [
        "import pandas as pd"
      ],
      "execution_count": 0,
      "outputs": []
    },
    {
      "cell_type": "code",
      "metadata": {
        "id": "ws95ToFKadR8",
        "colab_type": "code",
        "colab": {
          "base_uri": "https://localhost:8080/",
          "height": 969
        },
        "outputId": "1ed87646-7299-4a5e-dc54-4de649e78864"
      },
      "source": [
        "df = pd.read_csv('https://query.data.world/s/7ifvvpyy23sa2fciuvcygehakxlnnv')\n",
        "\n",
        "# only look at California\n",
        "df = df.loc[df[\"state\"]==\"California\"]\n",
        "\n",
        "# explore counties in California\n",
        "\n",
        "count = dict()              # how many data instances in each county\n",
        "for cnty in df[\"county\"]:\n",
        "    count[cnty] = count.get(cnty,0) + 1\n",
        "\n",
        "sum = 0                    # count the number of counties in California\n",
        "t = list(count.items())\n",
        "t.sort()\n",
        "for tp in t:\n",
        "    print(tp)\n",
        "    sum += 1\n",
        "print(\"There are \"+str(sum)+\" counties in the dataset.\")\n",
        "\n",
        "print(\"California has 58 counties in total.\")"
      ],
      "execution_count": 20,
      "outputs": [
        {
          "output_type": "stream",
          "text": [
            "('Alameda', 40)\n",
            "('Alpine', 11)\n",
            "('Amador', 21)\n",
            "('Butte', 20)\n",
            "('Calaveras', 17)\n",
            "('Colusa', 14)\n",
            "('Contra Costa', 38)\n",
            "('Del Norte', 8)\n",
            "('El Dorado', 20)\n",
            "('Fresno', 34)\n",
            "('Glenn', 13)\n",
            "('Humboldt', 50)\n",
            "('Imperial', 21)\n",
            "('Inyo', 16)\n",
            "('Kern', 24)\n",
            "('Kings', 14)\n",
            "('Lake', 4)\n",
            "('Los Angeles', 75)\n",
            "('Madera', 34)\n",
            "('Marin', 44)\n",
            "('Mendocino', 23)\n",
            "('Merced', 17)\n",
            "('Mono', 17)\n",
            "('Monterey', 24)\n",
            "('Napa', 44)\n",
            "('Nevada', 25)\n",
            "('Orange', 76)\n",
            "('Placer', 39)\n",
            "('Plumas', 10)\n",
            "('Riverside', 34)\n",
            "('Sacramento', 49)\n",
            "('San Benito', 28)\n",
            "('San Bernardino', 26)\n",
            "('San Diego', 60)\n",
            "('San Francisco', 68)\n",
            "('San Joaquin', 31)\n",
            "('San Luis Obispo', 27)\n",
            "('San Mateo', 39)\n",
            "('Santa Barbara', 26)\n",
            "('Santa Clara', 70)\n",
            "('Santa Cruz', 34)\n",
            "('Shasta', 32)\n",
            "('Siskiyou', 20)\n",
            "('Solano', 46)\n",
            "('Sonoma', 44)\n",
            "('Stanislaus', 30)\n",
            "('Sutter', 16)\n",
            "('Tehama', 7)\n",
            "('Tulare', 29)\n",
            "('Tuolumne', 12)\n",
            "('Unknown', 12)\n",
            "('Ventura', 31)\n",
            "('Yolo', 35)\n",
            "('Yuba', 20)\n",
            "There are 54 counties in the dataset.\n",
            "California has 58 counties in total.\n"
          ],
          "name": "stdout"
        }
      ]
    },
    {
      "cell_type": "code",
      "metadata": {
        "id": "BzkCzOcDbZSw",
        "colab_type": "code",
        "colab": {
          "base_uri": "https://localhost:8080/",
          "height": 34
        },
        "outputId": "846c1f45-dd70-40ca-cad4-8dfb2e9b7474"
      },
      "source": [
        "# only look at the 10 counties in LA-centered South California\n",
        "COUNTIES = ['San Luis Obispo', 'Kern', 'San Bernardino', 'Santa Barbara', 'Ventura', 'Los Angeles', 'Orange', 'Riverside', 'San Diego', 'Imperial']\n",
        "COUNTIES.sort()\n",
        "\n",
        "DATA = pd.DataFrame(df.loc[df['county']==COUNTIES[0]], index=None)\n",
        "for cnty in COUNTIES[1:]:\n",
        "    DATA = DATA.append(df.loc[df[\"county\"]==cnty], ignore_index=True)\n",
        "        \n",
        "print(DATA.shape)\n",
        "DATA \n"
      ],
      "execution_count": 43,
      "outputs": [
        {
          "output_type": "stream",
          "text": [
            "(400, 6)\n"
          ],
          "name": "stdout"
        }
      ]
    },
    {
      "cell_type": "code",
      "metadata": {
        "id": "1nSdbDFEtUxV",
        "colab_type": "code",
        "colab": {}
      },
      "source": [
        "DATA.to_csv (r'Data_cleaned.csv', index=False, header=True) "
      ],
      "execution_count": 0,
      "outputs": []
    }
  ]
}